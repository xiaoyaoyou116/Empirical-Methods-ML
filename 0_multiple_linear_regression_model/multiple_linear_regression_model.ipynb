{
 "cells": [
  {
   "cell_type": "markdown",
   "metadata": {
    "slideshow": {
     "slide_type": "slide"
    }
   },
   "source": [
    "# _Multiple_ Linear Regression (MLR) Model"
   ]
  },
  {
   "cell_type": "markdown",
   "metadata": {
    "slideshow": {
     "slide_type": "subslide"
    }
   },
   "source": [
    "## The Model"
   ]
  },
  {
   "cell_type": "markdown",
   "metadata": {
    "slideshow": {
     "slide_type": "fragment"
    }
   },
   "source": [
    "In the population we have <ins>scalar</ins> random variables, $[Y,X_1,\\ldots,X_{k},e]$, that fulfill the following relationship\n",
    "\n",
    "$$\n",
    "Y=\\beta_0+\\beta_1 X_1+\\ldots+\\beta_k X_k+e\\text{,}\n",
    "$$\n",
    "\n",
    "where $E[e|X_1,\\ldots,X_{k}]=0$, there are no exact linear relationships among the set of regressors (covariates, confounders, independent variables, predictors, etc.) $[X_1,\\ldots,X_{k}]$, and var$(e|X_1,\\ldots,X_{k})<+\\infty$. The scalar random variable, $Y$, is called the outcome, or the dependent variable.\n",
    "\n",
    "\n",
    "\n",
    "<p style='text-align: right;'> <a href=\"https://en.wikipedia.org/wiki/Conditional_expectation\" style=\"color: #cc0000\">Conditional Expectation</a></p>\n",
    "\n",
    "<p style='text-align: right;'> <a href=\"https://en.wikipedia.org/wiki/Conditional_variance\" style=\"color: #cc0000\">Conditional Variance</a></p>\n"
   ]
  },
  {
   "cell_type": "markdown",
   "metadata": {
    "slideshow": {
     "slide_type": "subslide"
    }
   },
   "source": [
    "## The Data"
   ]
  },
  {
   "cell_type": "markdown",
   "metadata": {
    "slideshow": {
     "slide_type": "fragment"
    }
   },
   "source": [
    "We observe a _random sample_ of $n$ observations taken from $[Y,X_1,\\ldots,X_{k},e]$, i.e., $\\{(y_i,x_{i,1},\\ldots,x_{i,k}):i=1,\\ldots,n\\}$. Therefore one has\n",
    "\n",
    "$$\n",
    "\\begin{array}\n",
    "[c]{c}\n",
    "y_{1}=\\beta_{0}+\\beta_{1}x_{1,1}+\\cdots+\\beta_{k}x_{1,k}+e_{1}\\\\\n",
    "y_{2}=\\beta_{0}+\\beta_{1}x_{2,1}+\\cdots+\\beta_{k}x_{2,k}+e_{2}\\\\\n",
    "y_{3}=\\beta_{0}+\\beta_{1}x_{3,1}+\\cdots+\\beta_{k}x_{3,k}+e_{3}\\\\\n",
    "\\vdots\\\\\n",
    "y_{n}=\\beta_{0}+\\beta_{1}x_{n,1}+\\cdots+\\beta_{k}x_{n,k}+e_{n}\n",
    "\\end{array}\n",
    "$$ or equivalently\n",
    "$$\\left[\n",
    "\\begin{array}\n",
    "[c]{c}\n",
    "y_{1}\\\\\n",
    "y_{2}\\\\\n",
    "y_{3}\\\\\n",
    "\\vdots\\\\\n",
    "y_{n}\n",
    "\\end{array}\n",
    "\\right]  =\\left[\n",
    "\\begin{array}\n",
    "[c]{cccc}\n",
    "1 & x_{1,1} & \\cdots & x_{1,k}\\\\\n",
    "1 & x_{2,1} & \\cdots & x_{2,k}\\\\\n",
    "1 & x_{3,1} & \\cdots & x_{3,k}\\\\\n",
    "\\vdots & \\vdots & \\ddots & \\vdots\\\\\n",
    "1 & x_{n,1} & \\cdots & x_{n,k}\n",
    "\\end{array}\n",
    "\\right]  \\left[\n",
    "\\begin{array}\n",
    "[c]{c}\n",
    "\\beta_{0}\\\\\n",
    "\\beta_{1}\\\\\n",
    "\\vdots\\\\\n",
    "\\beta_{k}\n",
    "\\end{array}\n",
    "\\right]  +\\left[\n",
    "\\begin{array}\n",
    "[c]{c}\n",
    "e_{1}\\\\\n",
    "e_{2}\\\\\n",
    "e_{3}\\\\\n",
    "\\vdots\\\\\n",
    "e_{n}\n",
    "\\end{array}\n",
    "\\right]\n",
    "$$"
   ]
  },
  {
   "cell_type": "markdown",
   "metadata": {
    "slideshow": {
     "slide_type": "subslide"
    }
   },
   "source": [
    "that can be rewritten in **matrix form**  as\n",
    "\n",
    "$$\n",
    "\\mathbf{y}=\\mathbf{X}\\mathbf{\\beta}+\\mathbf{e}\\text{,}\n",
    "$$\n",
    "\n",
    "where $\\mathbf{y}$ is a $n\\times 1$ [vector](https://en.wikipedia.org/wiki/Vector_(mathematics_and_physics)), $\\mathbf{X}$ is a $n\\times(k+1)$ [matrix](https://en.wikipedia.org/wiki/Matrix_(mathematics)) - sometimes called the [*design matrix*](https://en.wikipedia.org/wiki/Design_matrix), $\\mathbf{\\beta}$ is a $(k+1)\\times 1$ vector of <ins>unknown</ins> parameters, and $\\mathbf{e}$ is a $n\\times 1$ vector."
   ]
  },
  {
   "cell_type": "code",
   "execution_count": 1,
   "metadata": {
    "slideshow": {
     "slide_type": "subslide"
    }
   },
   "outputs": [
    {
     "name": "stderr",
     "output_type": "stream",
     "text": [
      "Loading required package: wooldridge\n"
     ]
    },
    {
     "data": {
      "text/html": [
       "<table>\n",
       "<caption>A data.frame: 6 × 12</caption>\n",
       "<thead>\n",
       "\t<tr><th scope=col>price</th><th scope=col>crime</th><th scope=col>nox</th><th scope=col>rooms</th><th scope=col>dist</th><th scope=col>radial</th><th scope=col>proptax</th><th scope=col>stratio</th><th scope=col>lowstat</th><th scope=col>lprice</th><th scope=col>lnox</th><th scope=col>lproptax</th></tr>\n",
       "\t<tr><th scope=col>&lt;dbl&gt;</th><th scope=col>&lt;dbl&gt;</th><th scope=col>&lt;dbl&gt;</th><th scope=col>&lt;dbl&gt;</th><th scope=col>&lt;dbl&gt;</th><th scope=col>&lt;int&gt;</th><th scope=col>&lt;dbl&gt;</th><th scope=col>&lt;dbl&gt;</th><th scope=col>&lt;dbl&gt;</th><th scope=col>&lt;dbl&gt;</th><th scope=col>&lt;dbl&gt;</th><th scope=col>&lt;dbl&gt;</th></tr>\n",
       "</thead>\n",
       "<tbody>\n",
       "\t<tr><td>24000</td><td>0.006</td><td>5.38</td><td>6.57</td><td>4.09</td><td>1</td><td>29.6</td><td>15.3</td><td>4.98</td><td>10.085809</td><td>1.682688</td><td>5.690360</td></tr>\n",
       "\t<tr><td>21599</td><td>0.027</td><td>4.69</td><td>6.42</td><td>4.97</td><td>2</td><td>24.2</td><td>17.8</td><td>9.14</td><td> 9.980402</td><td>1.545433</td><td>5.488938</td></tr>\n",
       "\t<tr><td>34700</td><td>0.027</td><td>4.69</td><td>7.18</td><td>4.97</td><td>2</td><td>24.2</td><td>17.8</td><td>4.03</td><td>10.454495</td><td>1.545433</td><td>5.488938</td></tr>\n",
       "\t<tr><td>33400</td><td>0.032</td><td>4.58</td><td>7.00</td><td>6.06</td><td>3</td><td>22.2</td><td>18.7</td><td>2.94</td><td>10.416311</td><td>1.521699</td><td>5.402678</td></tr>\n",
       "\t<tr><td>36199</td><td>0.069</td><td>4.58</td><td>7.15</td><td>6.06</td><td>3</td><td>22.2</td><td>18.7</td><td>5.33</td><td>10.496787</td><td>1.521699</td><td>5.402678</td></tr>\n",
       "\t<tr><td>28701</td><td>0.030</td><td>4.58</td><td>6.43</td><td>6.06</td><td>3</td><td>22.2</td><td>18.7</td><td>5.21</td><td>10.264688</td><td>1.521699</td><td>5.402678</td></tr>\n",
       "</tbody>\n",
       "</table>\n"
      ],
      "text/latex": [
       "A data.frame: 6 × 12\n",
       "\\begin{tabular}{r|llllllllllll}\n",
       " price & crime & nox & rooms & dist & radial & proptax & stratio & lowstat & lprice & lnox & lproptax\\\\\n",
       " <dbl> & <dbl> & <dbl> & <dbl> & <dbl> & <int> & <dbl> & <dbl> & <dbl> & <dbl> & <dbl> & <dbl>\\\\\n",
       "\\hline\n",
       "\t 24000 & 0.006 & 5.38 & 6.57 & 4.09 & 1 & 29.6 & 15.3 & 4.98 & 10.085809 & 1.682688 & 5.690360\\\\\n",
       "\t 21599 & 0.027 & 4.69 & 6.42 & 4.97 & 2 & 24.2 & 17.8 & 9.14 &  9.980402 & 1.545433 & 5.488938\\\\\n",
       "\t 34700 & 0.027 & 4.69 & 7.18 & 4.97 & 2 & 24.2 & 17.8 & 4.03 & 10.454495 & 1.545433 & 5.488938\\\\\n",
       "\t 33400 & 0.032 & 4.58 & 7.00 & 6.06 & 3 & 22.2 & 18.7 & 2.94 & 10.416311 & 1.521699 & 5.402678\\\\\n",
       "\t 36199 & 0.069 & 4.58 & 7.15 & 6.06 & 3 & 22.2 & 18.7 & 5.33 & 10.496787 & 1.521699 & 5.402678\\\\\n",
       "\t 28701 & 0.030 & 4.58 & 6.43 & 6.06 & 3 & 22.2 & 18.7 & 5.21 & 10.264688 & 1.521699 & 5.402678\\\\\n",
       "\\end{tabular}\n"
      ],
      "text/markdown": [
       "\n",
       "A data.frame: 6 × 12\n",
       "\n",
       "| price &lt;dbl&gt; | crime &lt;dbl&gt; | nox &lt;dbl&gt; | rooms &lt;dbl&gt; | dist &lt;dbl&gt; | radial &lt;int&gt; | proptax &lt;dbl&gt; | stratio &lt;dbl&gt; | lowstat &lt;dbl&gt; | lprice &lt;dbl&gt; | lnox &lt;dbl&gt; | lproptax &lt;dbl&gt; |\n",
       "|---|---|---|---|---|---|---|---|---|---|---|---|\n",
       "| 24000 | 0.006 | 5.38 | 6.57 | 4.09 | 1 | 29.6 | 15.3 | 4.98 | 10.085809 | 1.682688 | 5.690360 |\n",
       "| 21599 | 0.027 | 4.69 | 6.42 | 4.97 | 2 | 24.2 | 17.8 | 9.14 |  9.980402 | 1.545433 | 5.488938 |\n",
       "| 34700 | 0.027 | 4.69 | 7.18 | 4.97 | 2 | 24.2 | 17.8 | 4.03 | 10.454495 | 1.545433 | 5.488938 |\n",
       "| 33400 | 0.032 | 4.58 | 7.00 | 6.06 | 3 | 22.2 | 18.7 | 2.94 | 10.416311 | 1.521699 | 5.402678 |\n",
       "| 36199 | 0.069 | 4.58 | 7.15 | 6.06 | 3 | 22.2 | 18.7 | 5.33 | 10.496787 | 1.521699 | 5.402678 |\n",
       "| 28701 | 0.030 | 4.58 | 6.43 | 6.06 | 3 | 22.2 | 18.7 | 5.21 | 10.264688 | 1.521699 | 5.402678 |\n",
       "\n"
      ],
      "text/plain": [
       "  price crime nox  rooms dist radial proptax stratio lowstat lprice    lnox    \n",
       "1 24000 0.006 5.38 6.57  4.09 1      29.6    15.3    4.98    10.085809 1.682688\n",
       "2 21599 0.027 4.69 6.42  4.97 2      24.2    17.8    9.14     9.980402 1.545433\n",
       "3 34700 0.027 4.69 7.18  4.97 2      24.2    17.8    4.03    10.454495 1.545433\n",
       "4 33400 0.032 4.58 7.00  6.06 3      22.2    18.7    2.94    10.416311 1.521699\n",
       "5 36199 0.069 4.58 7.15  6.06 3      22.2    18.7    5.33    10.496787 1.521699\n",
       "6 28701 0.030 4.58 6.43  6.06 3      22.2    18.7    5.21    10.264688 1.521699\n",
       "  lproptax\n",
       "1 5.690360\n",
       "2 5.488938\n",
       "3 5.488938\n",
       "4 5.402678\n",
       "5 5.402678\n",
       "6 5.402678"
      ]
     },
     "metadata": {},
     "output_type": "display_data"
    }
   ],
   "source": [
    "## removing everything from memory\n",
    "rm(list=ls())\n",
    "## turning all warnings off\n",
    "options(warn=-1)\n",
    "\n",
    "## installing the 'wooldridge' package if not previously installed\n",
    "if (!require(wooldridge)) install.packages('wooldridge')\n",
    "\n",
    "## loading the packages\n",
    "library(wooldridge)\n",
    "\n",
    "data(hprice2)\n",
    "\n",
    "##  hprice2\n",
    "##  Obs:   506\n",
    "\n",
    "##  1. price                    median housing price, $\n",
    "##  2. crime                    crimes committed per capita\n",
    "##  3. nox                      nitrous oxide, parts per 100 mill.\n",
    "##  4. rooms                    avg number of rooms per house\n",
    "##  5. dist                     weighted dist. to 5 employ centers\n",
    "##  6. radial                   accessibiliy index to radial hghwys\n",
    "##  7. proptax                  property tax per $1000\n",
    "##  8. stratio                  average student-teacher ratio\n",
    "##  9. lowstat                  % of people 'lower status'\n",
    "## 10. lprice                   log(price)\n",
    "## 11. lnox                     log(nox)\n",
    "## 12. lproptax                 log(proptax)\n",
    "\n",
    "head(hprice2)"
   ]
  },
  {
   "cell_type": "markdown",
   "metadata": {
    "slideshow": {
     "slide_type": "subslide"
    }
   },
   "source": [
    "## The Assumptions"
   ]
  },
  {
   "cell_type": "markdown",
   "metadata": {
    "slideshow": {
     "slide_type": "fragment"
    }
   },
   "source": [
    "**<span style=\"color:blue\">Assumption MLR.1:</span>** $\\mathbf{y}=\\mathbf{X}\\mathbf{\\beta}+\\mathbf{e}$."
   ]
  },
  {
   "cell_type": "markdown",
   "metadata": {
    "slideshow": {
     "slide_type": "fragment"
    }
   },
   "source": [
    "<ins>Example</ins>: We specify the following model \n",
    "\n",
    "$$\n",
    "\\texttt{lprice}=\\beta_{0}+\\beta_{1}\\texttt{lnox}+\\beta_{2}\\texttt{lproptax}+\\beta_{3}\\texttt{crime}+\\beta_{4}\\texttt{rooms}+\\beta_{5}\\texttt{dist}+\\beta_{6}\\texttt{radial}+\\beta_{7}\\texttt{stratio}+\\beta_{8}\\texttt{lowstat}+e\n",
    "$$"
   ]
  },
  {
   "cell_type": "markdown",
   "metadata": {
    "slideshow": {
     "slide_type": "fragment"
    }
   },
   "source": [
    "💻 We can use ```as.formula``` to specify the model."
   ]
  },
  {
   "cell_type": "code",
   "execution_count": 2,
   "metadata": {
    "slideshow": {
     "slide_type": "fragment"
    }
   },
   "outputs": [
    {
     "name": "stdout",
     "output_type": "stream",
     "text": [
      "lprice ~ lnox + lproptax + crime + rooms + dist + radial + stratio + \n",
      "    lowstat\n"
     ]
    }
   ],
   "source": [
    "## specifying the outcome variable (y) and regressors (X)\n",
    "outcome <- \"lprice\"\n",
    "predictors <- c(\"lnox\", \"lproptax\", \"crime\", \"rooms\", \"dist\", \"radial\", \"stratio\", \"lowstat\")\n",
    "\n",
    "## creating a specification of the linear model\n",
    "f <- as.formula(\n",
    "                paste(outcome, \n",
    "                      paste(predictors, collapse = \" + \"), \n",
    "                      sep = \" ~ \")\n",
    "                )\n",
    "print(f)"
   ]
  },
  {
   "cell_type": "markdown",
   "metadata": {
    "slideshow": {
     "slide_type": "subslide"
    }
   },
   "source": [
    "**<span style=\"color:blue\">Assumption MLR.2:</span>** $\\{(y_i,x_{i,1},\\ldots,x_{i,k}):i=1,\\ldots,n\\}$ is a random sample (independent and identically distributed - i.i.d.)."
   ]
  },
  {
   "cell_type": "markdown",
   "metadata": {
    "slideshow": {
     "slide_type": "fragment"
    }
   },
   "source": [
    "💻 ```head``` allows us to visualize the structure of the data."
   ]
  },
  {
   "cell_type": "code",
   "execution_count": 3,
   "metadata": {
    "slideshow": {
     "slide_type": "fragment"
    }
   },
   "outputs": [
    {
     "data": {
      "text/html": [
       "<table>\n",
       "<caption>A data.frame: 6 × 9</caption>\n",
       "<thead>\n",
       "\t<tr><th scope=col>lprice</th><th scope=col>lnox</th><th scope=col>lproptax</th><th scope=col>crime</th><th scope=col>rooms</th><th scope=col>dist</th><th scope=col>radial</th><th scope=col>stratio</th><th scope=col>lowstat</th></tr>\n",
       "\t<tr><th scope=col>&lt;dbl&gt;</th><th scope=col>&lt;dbl&gt;</th><th scope=col>&lt;dbl&gt;</th><th scope=col>&lt;dbl&gt;</th><th scope=col>&lt;dbl&gt;</th><th scope=col>&lt;dbl&gt;</th><th scope=col>&lt;int&gt;</th><th scope=col>&lt;dbl&gt;</th><th scope=col>&lt;dbl&gt;</th></tr>\n",
       "</thead>\n",
       "<tbody>\n",
       "\t<tr><td>10.085809</td><td>1.682688</td><td>5.690360</td><td>0.006</td><td>6.57</td><td>4.09</td><td>1</td><td>15.3</td><td>4.98</td></tr>\n",
       "\t<tr><td> 9.980402</td><td>1.545433</td><td>5.488938</td><td>0.027</td><td>6.42</td><td>4.97</td><td>2</td><td>17.8</td><td>9.14</td></tr>\n",
       "\t<tr><td>10.454495</td><td>1.545433</td><td>5.488938</td><td>0.027</td><td>7.18</td><td>4.97</td><td>2</td><td>17.8</td><td>4.03</td></tr>\n",
       "\t<tr><td>10.416311</td><td>1.521699</td><td>5.402678</td><td>0.032</td><td>7.00</td><td>6.06</td><td>3</td><td>18.7</td><td>2.94</td></tr>\n",
       "\t<tr><td>10.496787</td><td>1.521699</td><td>5.402678</td><td>0.069</td><td>7.15</td><td>6.06</td><td>3</td><td>18.7</td><td>5.33</td></tr>\n",
       "\t<tr><td>10.264688</td><td>1.521699</td><td>5.402678</td><td>0.030</td><td>6.43</td><td>6.06</td><td>3</td><td>18.7</td><td>5.21</td></tr>\n",
       "</tbody>\n",
       "</table>\n"
      ],
      "text/latex": [
       "A data.frame: 6 × 9\n",
       "\\begin{tabular}{r|lllllllll}\n",
       " lprice & lnox & lproptax & crime & rooms & dist & radial & stratio & lowstat\\\\\n",
       " <dbl> & <dbl> & <dbl> & <dbl> & <dbl> & <dbl> & <int> & <dbl> & <dbl>\\\\\n",
       "\\hline\n",
       "\t 10.085809 & 1.682688 & 5.690360 & 0.006 & 6.57 & 4.09 & 1 & 15.3 & 4.98\\\\\n",
       "\t  9.980402 & 1.545433 & 5.488938 & 0.027 & 6.42 & 4.97 & 2 & 17.8 & 9.14\\\\\n",
       "\t 10.454495 & 1.545433 & 5.488938 & 0.027 & 7.18 & 4.97 & 2 & 17.8 & 4.03\\\\\n",
       "\t 10.416311 & 1.521699 & 5.402678 & 0.032 & 7.00 & 6.06 & 3 & 18.7 & 2.94\\\\\n",
       "\t 10.496787 & 1.521699 & 5.402678 & 0.069 & 7.15 & 6.06 & 3 & 18.7 & 5.33\\\\\n",
       "\t 10.264688 & 1.521699 & 5.402678 & 0.030 & 6.43 & 6.06 & 3 & 18.7 & 5.21\\\\\n",
       "\\end{tabular}\n"
      ],
      "text/markdown": [
       "\n",
       "A data.frame: 6 × 9\n",
       "\n",
       "| lprice &lt;dbl&gt; | lnox &lt;dbl&gt; | lproptax &lt;dbl&gt; | crime &lt;dbl&gt; | rooms &lt;dbl&gt; | dist &lt;dbl&gt; | radial &lt;int&gt; | stratio &lt;dbl&gt; | lowstat &lt;dbl&gt; |\n",
       "|---|---|---|---|---|---|---|---|---|\n",
       "| 10.085809 | 1.682688 | 5.690360 | 0.006 | 6.57 | 4.09 | 1 | 15.3 | 4.98 |\n",
       "|  9.980402 | 1.545433 | 5.488938 | 0.027 | 6.42 | 4.97 | 2 | 17.8 | 9.14 |\n",
       "| 10.454495 | 1.545433 | 5.488938 | 0.027 | 7.18 | 4.97 | 2 | 17.8 | 4.03 |\n",
       "| 10.416311 | 1.521699 | 5.402678 | 0.032 | 7.00 | 6.06 | 3 | 18.7 | 2.94 |\n",
       "| 10.496787 | 1.521699 | 5.402678 | 0.069 | 7.15 | 6.06 | 3 | 18.7 | 5.33 |\n",
       "| 10.264688 | 1.521699 | 5.402678 | 0.030 | 6.43 | 6.06 | 3 | 18.7 | 5.21 |\n",
       "\n"
      ],
      "text/plain": [
       "  lprice    lnox     lproptax crime rooms dist radial stratio lowstat\n",
       "1 10.085809 1.682688 5.690360 0.006 6.57  4.09 1      15.3    4.98   \n",
       "2  9.980402 1.545433 5.488938 0.027 6.42  4.97 2      17.8    9.14   \n",
       "3 10.454495 1.545433 5.488938 0.027 7.18  4.97 2      17.8    4.03   \n",
       "4 10.416311 1.521699 5.402678 0.032 7.00  6.06 3      18.7    2.94   \n",
       "5 10.496787 1.521699 5.402678 0.069 7.15  6.06 3      18.7    5.33   \n",
       "6 10.264688 1.521699 5.402678 0.030 6.43  6.06 3      18.7    5.21   "
      ]
     },
     "metadata": {},
     "output_type": "display_data"
    }
   ],
   "source": [
    "head(subset(hprice2,select=c(outcome,predictors)))"
   ]
  },
  {
   "cell_type": "markdown",
   "metadata": {
    "slideshow": {
     "slide_type": "subslide"
    }
   },
   "source": [
    "**<span style=\"color:blue\">Assumption MLR.3:</span>** rank$[E(\\mathbf{x}_i\\mathbf{x}_i^\\prime)]=k+1$, where $\\mathbf{x}_i^\\prime=[1,x_{i,1},\\ldots,x_{i,k}]$. <p style='text-align: right;'> <a href=\"https://en.wikipedia.org/wiki/Rank_(linear_algebra)\" style=\"color: #cc0000\">Rank of a Matrix</a></p>\n",
    "<p style='text-align: right;'> <a href=\"https://en.wikipedia.org/wiki/Transpose\" style=\"color: #cc0000\">Transpose</a></p> <p style='text-align: right;'> <a href=\"https://en.wikipedia.org/wiki/Expected_value\" style=\"color: #cc0000\">Expected Value</a></p>"
   ]
  },
  {
   "cell_type": "markdown",
   "metadata": {
    "slideshow": {
     "slide_type": "fragment"
    }
   },
   "source": [
    "💻 ```model.matrix``` creates a design matrix based on the declared predictors and includes a vector of ones by default as the first column."
   ]
  },
  {
   "cell_type": "code",
   "execution_count": 4,
   "metadata": {
    "slideshow": {
     "slide_type": "fragment"
    }
   },
   "outputs": [
    {
     "data": {
      "text/html": [
       "<ol class=list-inline>\n",
       "\t<li>506</li>\n",
       "\t<li>9</li>\n",
       "</ol>\n"
      ],
      "text/latex": [
       "\\begin{enumerate*}\n",
       "\\item 506\n",
       "\\item 9\n",
       "\\end{enumerate*}\n"
      ],
      "text/markdown": [
       "1. 506\n",
       "2. 9\n",
       "\n",
       "\n"
      ],
      "text/plain": [
       "[1] 506   9"
      ]
     },
     "metadata": {},
     "output_type": "display_data"
    }
   ],
   "source": [
    "## asking R to print the design matrix for the chosen model\n",
    "X <- model.matrix(f,data=hprice2)\n",
    "dim(X)"
   ]
  },
  {
   "cell_type": "code",
   "execution_count": 5,
   "metadata": {
    "slideshow": {
     "slide_type": "fragment"
    }
   },
   "outputs": [
    {
     "data": {
      "text/html": [
       "<table>\n",
       "<caption>A matrix: 9 × 9 of type dbl</caption>\n",
       "<thead>\n",
       "\t<tr><th></th><th scope=col>(Intercept)</th><th scope=col>lnox</th><th scope=col>lproptax</th><th scope=col>crime</th><th scope=col>rooms</th><th scope=col>dist</th><th scope=col>radial</th><th scope=col>stratio</th><th scope=col>lowstat</th></tr>\n",
       "</thead>\n",
       "<tbody>\n",
       "\t<tr><th scope=row>(Intercept)</th><td> 1.000000</td><td> 1.693091</td><td>  5.931405</td><td> 3.611536</td><td>  6.284051</td><td> 3.795751</td><td>  9.549407</td><td> 18.45929</td><td> 12.70148</td></tr>\n",
       "\t<tr><th scope=row>lnox</th><td> 1.693091</td><td> 2.907044</td><td> 10.095573</td><td> 6.856537</td><td> 10.596400</td><td> 6.084143</td><td> 17.260483</td><td> 31.35248</td><td> 22.37223</td></tr>\n",
       "\t<tr><th scope=row>lproptax</th><td> 5.931405</td><td>10.095573</td><td> 35.338358</td><td>23.295199</td><td> 37.190075</td><td>22.085981</td><td> 59.615786</td><td>109.85126</td><td> 76.80061</td></tr>\n",
       "\t<tr><th scope=row>crime</th><td> 3.611536</td><td> 6.856537</td><td> 23.295199</td><td>86.689699</td><td> 21.377033</td><td> 6.848667</td><td> 81.177092</td><td> 72.02684</td><td> 73.61199</td></tr>\n",
       "\t<tr><th scope=row>rooms</th><td> 6.284051</td><td>10.596400</td><td> 37.190075</td><td>21.377033</td><td> 39.981964</td><td>24.156050</td><td> 58.728182</td><td>115.46149</td><td> 76.72280</td></tr>\n",
       "\t<tr><th scope=row>dist</th><td> 3.795751</td><td> 6.084143</td><td> 22.085981</td><td> 6.848667</td><td> 24.156050</td><td>18.834770</td><td> 27.186285</td><td> 69.02312</td><td> 40.67146</td></tr>\n",
       "\t<tr><th scope=row>radial</th><td> 9.549407</td><td>17.260483</td><td> 59.615786</td><td>81.177092</td><td> 58.728182</td><td>27.186285</td><td>166.857708</td><td>185.01285</td><td>151.23399</td></tr>\n",
       "\t<tr><th scope=row>stratio</th><td>18.459289</td><td>31.352485</td><td>109.851264</td><td>72.026836</td><td>115.461493</td><td>69.023115</td><td>185.012851</td><td>345.42685</td><td>240.17718</td></tr>\n",
       "\t<tr><th scope=row>lowstat</th><td>12.701482</td><td>22.372233</td><td> 76.800607</td><td>73.611990</td><td> 76.722797</td><td>40.671455</td><td>151.233992</td><td>240.17718</td><td>213.61371</td></tr>\n",
       "</tbody>\n",
       "</table>\n"
      ],
      "text/latex": [
       "A matrix: 9 × 9 of type dbl\n",
       "\\begin{tabular}{r|lllllllll}\n",
       "  & (Intercept) & lnox & lproptax & crime & rooms & dist & radial & stratio & lowstat\\\\\n",
       "\\hline\n",
       "\t(Intercept) &  1.000000 &  1.693091 &   5.931405 &  3.611536 &   6.284051 &  3.795751 &   9.549407 &  18.45929 &  12.70148\\\\\n",
       "\tlnox &  1.693091 &  2.907044 &  10.095573 &  6.856537 &  10.596400 &  6.084143 &  17.260483 &  31.35248 &  22.37223\\\\\n",
       "\tlproptax &  5.931405 & 10.095573 &  35.338358 & 23.295199 &  37.190075 & 22.085981 &  59.615786 & 109.85126 &  76.80061\\\\\n",
       "\tcrime &  3.611536 &  6.856537 &  23.295199 & 86.689699 &  21.377033 &  6.848667 &  81.177092 &  72.02684 &  73.61199\\\\\n",
       "\trooms &  6.284051 & 10.596400 &  37.190075 & 21.377033 &  39.981964 & 24.156050 &  58.728182 & 115.46149 &  76.72280\\\\\n",
       "\tdist &  3.795751 &  6.084143 &  22.085981 &  6.848667 &  24.156050 & 18.834770 &  27.186285 &  69.02312 &  40.67146\\\\\n",
       "\tradial &  9.549407 & 17.260483 &  59.615786 & 81.177092 &  58.728182 & 27.186285 & 166.857708 & 185.01285 & 151.23399\\\\\n",
       "\tstratio & 18.459289 & 31.352485 & 109.851264 & 72.026836 & 115.461493 & 69.023115 & 185.012851 & 345.42685 & 240.17718\\\\\n",
       "\tlowstat & 12.701482 & 22.372233 &  76.800607 & 73.611990 &  76.722797 & 40.671455 & 151.233992 & 240.17718 & 213.61371\\\\\n",
       "\\end{tabular}\n"
      ],
      "text/markdown": [
       "\n",
       "A matrix: 9 × 9 of type dbl\n",
       "\n",
       "| <!--/--> | (Intercept) | lnox | lproptax | crime | rooms | dist | radial | stratio | lowstat |\n",
       "|---|---|---|---|---|---|---|---|---|---|\n",
       "| (Intercept) |  1.000000 |  1.693091 |   5.931405 |  3.611536 |   6.284051 |  3.795751 |   9.549407 |  18.45929 |  12.70148 |\n",
       "| lnox |  1.693091 |  2.907044 |  10.095573 |  6.856537 |  10.596400 |  6.084143 |  17.260483 |  31.35248 |  22.37223 |\n",
       "| lproptax |  5.931405 | 10.095573 |  35.338358 | 23.295199 |  37.190075 | 22.085981 |  59.615786 | 109.85126 |  76.80061 |\n",
       "| crime |  3.611536 |  6.856537 |  23.295199 | 86.689699 |  21.377033 |  6.848667 |  81.177092 |  72.02684 |  73.61199 |\n",
       "| rooms |  6.284051 | 10.596400 |  37.190075 | 21.377033 |  39.981964 | 24.156050 |  58.728182 | 115.46149 |  76.72280 |\n",
       "| dist |  3.795751 |  6.084143 |  22.085981 |  6.848667 |  24.156050 | 18.834770 |  27.186285 |  69.02312 |  40.67146 |\n",
       "| radial |  9.549407 | 17.260483 |  59.615786 | 81.177092 |  58.728182 | 27.186285 | 166.857708 | 185.01285 | 151.23399 |\n",
       "| stratio | 18.459289 | 31.352485 | 109.851264 | 72.026836 | 115.461493 | 69.023115 | 185.012851 | 345.42685 | 240.17718 |\n",
       "| lowstat | 12.701482 | 22.372233 |  76.800607 | 73.611990 |  76.722797 | 40.671455 | 151.233992 | 240.17718 | 213.61371 |\n",
       "\n"
      ],
      "text/plain": [
       "            (Intercept) lnox      lproptax   crime     rooms      dist     \n",
       "(Intercept)  1.000000    1.693091   5.931405  3.611536   6.284051  3.795751\n",
       "lnox         1.693091    2.907044  10.095573  6.856537  10.596400  6.084143\n",
       "lproptax     5.931405   10.095573  35.338358 23.295199  37.190075 22.085981\n",
       "crime        3.611536    6.856537  23.295199 86.689699  21.377033  6.848667\n",
       "rooms        6.284051   10.596400  37.190075 21.377033  39.981964 24.156050\n",
       "dist         3.795751    6.084143  22.085981  6.848667  24.156050 18.834770\n",
       "radial       9.549407   17.260483  59.615786 81.177092  58.728182 27.186285\n",
       "stratio     18.459289   31.352485 109.851264 72.026836 115.461493 69.023115\n",
       "lowstat     12.701482   22.372233  76.800607 73.611990  76.722797 40.671455\n",
       "            radial     stratio   lowstat  \n",
       "(Intercept)   9.549407  18.45929  12.70148\n",
       "lnox         17.260483  31.35248  22.37223\n",
       "lproptax     59.615786 109.85126  76.80061\n",
       "crime        81.177092  72.02684  73.61199\n",
       "rooms        58.728182 115.46149  76.72280\n",
       "dist         27.186285  69.02312  40.67146\n",
       "radial      166.857708 185.01285 151.23399\n",
       "stratio     185.012851 345.42685 240.17718\n",
       "lowstat     151.233992 240.17718 213.61371"
      ]
     },
     "metadata": {},
     "output_type": "display_data"
    }
   ],
   "source": [
    "## calculating & printing the sample counterpart of E[xx']\n",
    "X.X.n <- t(X)%*%X/nrow(X)\n",
    "X.X.n"
   ]
  },
  {
   "cell_type": "code",
   "execution_count": 6,
   "metadata": {
    "slideshow": {
     "slide_type": "fragment"
    }
   },
   "outputs": [
    {
     "data": {
      "text/html": [
       "9"
      ],
      "text/latex": [
       "9"
      ],
      "text/markdown": [
       "9"
      ],
      "text/plain": [
       "[1] 9"
      ]
     },
     "metadata": {},
     "output_type": "display_data"
    }
   ],
   "source": [
    "## asking R to calculate the actual rank of the estimated E[xx']\n",
    "qr(X.X.n)$rank"
   ]
  },
  {
   "cell_type": "markdown",
   "metadata": {
    "slideshow": {
     "slide_type": "subslide"
    }
   },
   "source": [
    "**<span style=\"color:blue\">Assumption MLR.4:</span>** $E[\\mathbf{e}|\\mathbf{X}]=\\mathbf{0}$.\n",
    "\n",
    "$$\n",
    "E[\\mathbf{e}|\\mathbf{X}]=\\left[\n",
    "\\begin{array}\n",
    "[c]{c}\n",
    "E[e_{1}|\\mathbf{X}]\\\\\n",
    "E[e_{2}|\\mathbf{X}]\\\\\n",
    "E[e_{3}|\\mathbf{X}]\\\\\n",
    "\\vdots\\\\\n",
    "E[e_{n}|\\mathbf{X}]\n",
    "\\end{array}\n",
    "\\right]  =\\left[\n",
    "\\begin{array}\n",
    "[c]{c}\n",
    "0\\\\\n",
    "0\\\\\n",
    "0\\\\\n",
    "\\vdots\\\\\n",
    "0\n",
    "\\end{array}\n",
    "\\right]=\\mathbf{0}.  $$"
   ]
  },
  {
   "cell_type": "markdown",
   "metadata": {
    "slideshow": {
     "slide_type": "subslide"
    }
   },
   "source": [
    "**<span style=\"color:blue\">Assumption MLR.5:</span>** var$(\\mathbf{e}|\\mathbf{X})=E[\\mathbf{e}\\mathbf{e}^{\\prime}|\\mathbf{X}]=\\mathbf{D}$, i.e.,\n",
    "\n",
    "$$\n",
    "E[\\mathbf{e}\\mathbf{e}^{\\prime}|\\mathbf{X}]=\n",
    "\\begin{bmatrix}\n",
    "E[e_{1}^{2}|\\mathbf{X}] & 0 & \\cdots & 0\\\\\n",
    "0 & E[e_{2}^{2}|\\mathbf{X}] & \\cdots & 0\\\\\n",
    "0 & 0 & \\cdots & 0\\\\\n",
    "\\vdots & \\vdots & \\ddots & \\vdots\\\\\n",
    "0 & 0 & \\cdots & E[e_{n}^{2}|\\mathbf{X}]\n",
    "\\end{bmatrix}  = \\mathbf{D}\n",
    "$$\n",
    "\n",
    "where $\\vert\\mathbf{D}\\vert < +\\infty$.\n",
    "\n",
    "<p style='text-align: right;'> <a href=\"https://en.wikipedia.org/wiki/Determinant\" style=\"color: #cc0000\">Determinant</a></p>"
   ]
  },
  {
   "cell_type": "markdown",
   "metadata": {
    "slideshow": {
     "slide_type": "slide"
    }
   },
   "source": [
    "## The *Ordinary Least Squares* (OLS) Estimator"
   ]
  },
  {
   "cell_type": "markdown",
   "metadata": {
    "slideshow": {
     "slide_type": "fragment"
    }
   },
   "source": [
    "Define the Sum of Squared Errors ($\\mathrm{SSE}$) as a function of any candidate guess, $\\mathbf{b}=[b_{0},b_{1},\\cdots,b_{k}]^{\\prime}$, for the unknown $[\\beta_{0},\\beta_{1},\\beta_{2},\\cdots,\\beta_{k}]^{\\prime}\\equiv\\mathbf{\\beta}$, i.e.,\n",
    "\n",
    "$$\n",
    "\\mathrm{SSE}(\\mathbf{b})=\\Sigma_{i=1}^{n}(y_{i}-b_{0}-b_{1}x_{1,i}-b_{2}x_{2,i}\n",
    "-\\cdots-b_{k}x_{k,i})^{2}=(\\mathbf{y}-\\mathbf{Xb})^{\\prime}(\\mathbf{y}\n",
    "-\\mathbf{Xb})\n",
    "$$\n",
    "\n",
    "By standard [matrix calculus](https://en.wikipedia.org/wiki/Matrix_calculus) one has\n",
    "$$\n",
    "\\frac{\\partial \\mathrm{SSE}(\\mathbf{b})}{\\partial\\mathbf{b}}=\\left[\n",
    "\\begin{array}\n",
    "[c]{c}\n",
    "\\partial \\mathrm{SSE}(\\mathbf{b})/\\partial b_{0}\\\\\n",
    "\\partial \\mathrm{SSE}(\\mathbf{b})/\\partial b_{1}\\\\\n",
    "\\partial \\mathrm{SSE}(\\mathbf{b})/\\partial b_{2}\\\\\n",
    "\\vdots\\\\\n",
    "\\partial \\mathrm{SSE}(\\mathbf{b})/\\partial b_{k}\n",
    "\\end{array}\n",
    "\\right]  =-2\\mathbf{X}^{\\prime}(\\mathbf{y}-\\mathbf{Xb})\\text{,}\n",
    "$$"
   ]
  },
  {
   "cell_type": "markdown",
   "metadata": {
    "slideshow": {
     "slide_type": "subslide"
    }
   },
   "source": [
    "and\n",
    "\n",
    "$$\n",
    "\\frac{\\partial^{2}\\mathrm{SSE}(\\mathbf{b})}{\\partial\\mathbf{b}\\partial\\mathbf{b}\n",
    "^{\\prime}}=\\left[\n",
    "\\begin{array}\n",
    "[c]{cccc}\n",
    "\\partial^{2}\\mathrm{SSE}(\\mathbf{b})/\\partial b_{0}^{2} & \\partial^{2}\\mathrm{SSE}(\\mathbf{b}\n",
    ")/\\partial b_{0}\\partial b_{1} & \\cdots & \\partial^{2}\\mathrm{SSE}(\\mathbf{b})/\\partial\n",
    "b_{0}\\partial b_{k}\\\\\n",
    "\\partial^{2}\\mathrm{SSE}(\\mathbf{b})/\\partial b_{1}\\partial b_{0} & \\partial\n",
    "^{2}\\mathrm{SSE}(\\mathbf{b})/\\partial b_{1}^{2} & \\cdots & \\partial^{2}\\mathrm{SSE}(\\mathbf{b}\n",
    ")/\\partial b_{1}\\partial b_{k}\\\\\n",
    "\\partial^{2}\\mathrm{SSE}(\\mathbf{b})/\\partial b_{2}\\partial b_{0} & \\partial\n",
    "^{2}\\mathrm{SSE}(\\mathbf{b})/\\partial b_{2}\\partial b_{1} & \\cdots & \\partial\n",
    "^{2}\\mathrm{SSE}(\\mathbf{b})/\\partial b_{2}\\partial b_{k}\\\\\n",
    "\\vdots & \\vdots & \\ddots & \\vdots\\\\\n",
    "\\partial^{2}\\mathrm{SSE}(\\mathbf{b})/\\partial b_{k}\\partial b_{0} & \\partial\n",
    "^{2}\\mathrm{SSE}(\\mathbf{b})/\\partial b_{k}\\partial b_{1} & \\cdots & \\partial\n",
    "^{2}\\mathrm{SSE}(\\mathbf{b})/\\partial b_{k}^{2}\n",
    "\\end{array}\n",
    "\\right]  =2\\mathbf{X}^{\\prime}\\mathbf{X}\\text{,}\n",
    "$$\n",
    "\n",
    "where $\\mathbf{X}^{\\prime}\\mathbf{X}$ is a [positive definite matrix](https://en.wikipedia.org/wiki/Definiteness_of_a_matrix) by **<span style=\"color:blue\">Assumption MLR.3</span>**."
   ]
  },
  {
   "cell_type": "code",
   "execution_count": 7,
   "metadata": {
    "slideshow": {
     "slide_type": "fragment"
    }
   },
   "outputs": [
    {
     "data": {
      "text/html": [
       "<table>\n",
       "<caption>A matrix: 9 × 9 of type dbl</caption>\n",
       "<thead>\n",
       "\t<tr><th></th><th scope=col>(Intercept)</th><th scope=col>lnox</th><th scope=col>lproptax</th><th scope=col>crime</th><th scope=col>rooms</th><th scope=col>dist</th><th scope=col>radial</th><th scope=col>stratio</th><th scope=col>lowstat</th></tr>\n",
       "</thead>\n",
       "<tbody>\n",
       "\t<tr><th scope=row>(Intercept)</th><td> 1012.000</td><td> 1713.408</td><td>  6002.582</td><td> 3654.874</td><td>  6359.46</td><td> 3841.300</td><td>  9664.00</td><td> 18680.80</td><td> 12853.90</td></tr>\n",
       "\t<tr><th scope=row>lnox</th><td> 1713.408</td><td> 2941.929</td><td> 10216.720</td><td> 6938.815</td><td> 10723.56</td><td> 6157.152</td><td> 17467.61</td><td> 31728.71</td><td> 22640.70</td></tr>\n",
       "\t<tr><th scope=row>lproptax</th><td> 6002.582</td><td>10216.720</td><td> 35762.418</td><td>23574.741</td><td> 37636.36</td><td>22351.013</td><td> 60331.17</td><td>111169.48</td><td> 77722.21</td></tr>\n",
       "\t<tr><th scope=row>crime</th><td> 3654.874</td><td> 6938.815</td><td> 23574.741</td><td>87729.975</td><td> 21633.56</td><td> 6930.851</td><td> 82151.22</td><td> 72891.16</td><td> 74495.33</td></tr>\n",
       "\t<tr><th scope=row>rooms</th><td> 6359.460</td><td>10723.557</td><td> 37636.356</td><td>21633.557</td><td> 40461.75</td><td>24445.923</td><td> 59432.92</td><td>116847.03</td><td> 77643.47</td></tr>\n",
       "\t<tr><th scope=row>dist</th><td> 3841.300</td><td> 6157.152</td><td> 22351.013</td><td> 6930.851</td><td> 24445.92</td><td>19060.787</td><td> 27512.52</td><td> 69851.39</td><td> 41159.51</td></tr>\n",
       "\t<tr><th scope=row>radial</th><td> 9664.000</td><td>17467.609</td><td> 60331.175</td><td>82151.217</td><td> 59432.92</td><td>27512.520</td><td>168860.00</td><td>187233.01</td><td>153048.80</td></tr>\n",
       "\t<tr><th scope=row>stratio</th><td>18680.800</td><td>31728.715</td><td>111169.479</td><td>72891.158</td><td>116847.03</td><td>69851.393</td><td>187233.01</td><td>349571.97</td><td>243059.31</td></tr>\n",
       "\t<tr><th scope=row>lowstat</th><td>12853.900</td><td>22640.700</td><td> 77722.214</td><td>74495.334</td><td> 77643.47</td><td>41159.513</td><td>153048.80</td><td>243059.31</td><td>216177.07</td></tr>\n",
       "</tbody>\n",
       "</table>\n"
      ],
      "text/latex": [
       "A matrix: 9 × 9 of type dbl\n",
       "\\begin{tabular}{r|lllllllll}\n",
       "  & (Intercept) & lnox & lproptax & crime & rooms & dist & radial & stratio & lowstat\\\\\n",
       "\\hline\n",
       "\t(Intercept) &  1012.000 &  1713.408 &   6002.582 &  3654.874 &   6359.46 &  3841.300 &   9664.00 &  18680.80 &  12853.90\\\\\n",
       "\tlnox &  1713.408 &  2941.929 &  10216.720 &  6938.815 &  10723.56 &  6157.152 &  17467.61 &  31728.71 &  22640.70\\\\\n",
       "\tlproptax &  6002.582 & 10216.720 &  35762.418 & 23574.741 &  37636.36 & 22351.013 &  60331.17 & 111169.48 &  77722.21\\\\\n",
       "\tcrime &  3654.874 &  6938.815 &  23574.741 & 87729.975 &  21633.56 &  6930.851 &  82151.22 &  72891.16 &  74495.33\\\\\n",
       "\trooms &  6359.460 & 10723.557 &  37636.356 & 21633.557 &  40461.75 & 24445.923 &  59432.92 & 116847.03 &  77643.47\\\\\n",
       "\tdist &  3841.300 &  6157.152 &  22351.013 &  6930.851 &  24445.92 & 19060.787 &  27512.52 &  69851.39 &  41159.51\\\\\n",
       "\tradial &  9664.000 & 17467.609 &  60331.175 & 82151.217 &  59432.92 & 27512.520 & 168860.00 & 187233.01 & 153048.80\\\\\n",
       "\tstratio & 18680.800 & 31728.715 & 111169.479 & 72891.158 & 116847.03 & 69851.393 & 187233.01 & 349571.97 & 243059.31\\\\\n",
       "\tlowstat & 12853.900 & 22640.700 &  77722.214 & 74495.334 &  77643.47 & 41159.513 & 153048.80 & 243059.31 & 216177.07\\\\\n",
       "\\end{tabular}\n"
      ],
      "text/markdown": [
       "\n",
       "A matrix: 9 × 9 of type dbl\n",
       "\n",
       "| <!--/--> | (Intercept) | lnox | lproptax | crime | rooms | dist | radial | stratio | lowstat |\n",
       "|---|---|---|---|---|---|---|---|---|---|\n",
       "| (Intercept) |  1012.000 |  1713.408 |   6002.582 |  3654.874 |   6359.46 |  3841.300 |   9664.00 |  18680.80 |  12853.90 |\n",
       "| lnox |  1713.408 |  2941.929 |  10216.720 |  6938.815 |  10723.56 |  6157.152 |  17467.61 |  31728.71 |  22640.70 |\n",
       "| lproptax |  6002.582 | 10216.720 |  35762.418 | 23574.741 |  37636.36 | 22351.013 |  60331.17 | 111169.48 |  77722.21 |\n",
       "| crime |  3654.874 |  6938.815 |  23574.741 | 87729.975 |  21633.56 |  6930.851 |  82151.22 |  72891.16 |  74495.33 |\n",
       "| rooms |  6359.460 | 10723.557 |  37636.356 | 21633.557 |  40461.75 | 24445.923 |  59432.92 | 116847.03 |  77643.47 |\n",
       "| dist |  3841.300 |  6157.152 |  22351.013 |  6930.851 |  24445.92 | 19060.787 |  27512.52 |  69851.39 |  41159.51 |\n",
       "| radial |  9664.000 | 17467.609 |  60331.175 | 82151.217 |  59432.92 | 27512.520 | 168860.00 | 187233.01 | 153048.80 |\n",
       "| stratio | 18680.800 | 31728.715 | 111169.479 | 72891.158 | 116847.03 | 69851.393 | 187233.01 | 349571.97 | 243059.31 |\n",
       "| lowstat | 12853.900 | 22640.700 |  77722.214 | 74495.334 |  77643.47 | 41159.513 | 153048.80 | 243059.31 | 216177.07 |\n",
       "\n"
      ],
      "text/plain": [
       "            (Intercept) lnox      lproptax   crime     rooms     dist     \n",
       "(Intercept)  1012.000    1713.408   6002.582  3654.874   6359.46  3841.300\n",
       "lnox         1713.408    2941.929  10216.720  6938.815  10723.56  6157.152\n",
       "lproptax     6002.582   10216.720  35762.418 23574.741  37636.36 22351.013\n",
       "crime        3654.874    6938.815  23574.741 87729.975  21633.56  6930.851\n",
       "rooms        6359.460   10723.557  37636.356 21633.557  40461.75 24445.923\n",
       "dist         3841.300    6157.152  22351.013  6930.851  24445.92 19060.787\n",
       "radial       9664.000   17467.609  60331.175 82151.217  59432.92 27512.520\n",
       "stratio     18680.800   31728.715 111169.479 72891.158 116847.03 69851.393\n",
       "lowstat     12853.900   22640.700  77722.214 74495.334  77643.47 41159.513\n",
       "            radial    stratio   lowstat  \n",
       "(Intercept)   9664.00  18680.80  12853.90\n",
       "lnox         17467.61  31728.71  22640.70\n",
       "lproptax     60331.17 111169.48  77722.21\n",
       "crime        82151.22  72891.16  74495.33\n",
       "rooms        59432.92 116847.03  77643.47\n",
       "dist         27512.52  69851.39  41159.51\n",
       "radial      168860.00 187233.01 153048.80\n",
       "stratio     187233.01 349571.97 243059.31\n",
       "lowstat     153048.80 243059.31 216177.07"
      ]
     },
     "metadata": {},
     "output_type": "display_data"
    }
   ],
   "source": [
    "## printing 2X'X\n",
    "2*t(X)%*%X"
   ]
  },
  {
   "cell_type": "markdown",
   "metadata": {
    "slideshow": {
     "slide_type": "subslide"
    }
   },
   "source": [
    "Therefore $\\left.  \\partial \\mathrm{SSE}(\\mathbf{b})/\\partial\\mathbf{b}\\right\\vert _{\\mathbf{b}=\\widehat{\\boldsymbol{\\beta}}\n",
    "}=\\mathbf{0}$ defines a minima, i.e.,\n",
    "\n",
    "$$\\widehat{\\boldsymbol{\\beta}}=(\\mathbf{X}\n",
    "^{\\prime}\\mathbf{X})^{-1}\\mathbf{X}^{\\prime}\\mathbf{y}.$$\n",
    "\n",
    "Here we have used the\n",
    "notation $\\mathbf{A}^{-1}$ to denote the inverse of a matrix $\\mathbf{A}$.\n",
    "\n",
    "<p style='text-align: right;'> <a href=\"https://en.wikipedia.org/wiki/Euclidean_distance\" style=\"color: #cc0000\">Euclidean Distance</a></p>\n",
    "<p style='text-align: right;'> <a href=\"https://en.wikipedia.org/wiki/Invertible_matrix\" style=\"color: #cc0000\">Inverse</a></p>\n",
    "<p style='text-align: right;'> <a href=\"https://en.wikipedia.org/wiki/Maxima_and_minima\" style=\"color: #cc0000\">Maxima</a></p>"
   ]
  },
  {
   "cell_type": "markdown",
   "metadata": {
    "slideshow": {
     "slide_type": "fragment"
    }
   },
   "source": [
    "💻 Calculating the OLS estimator by hand first and then using the highly optimized ```lm``` command."
   ]
  },
  {
   "cell_type": "code",
   "execution_count": 8,
   "metadata": {
    "slideshow": {
     "slide_type": "fragment"
    }
   },
   "outputs": [
    {
     "data": {
      "text/html": [
       "<table>\n",
       "<caption>A matrix: 9 × 1 of type dbl</caption>\n",
       "<tbody>\n",
       "\t<tr><th scope=row>(Intercept)</th><td>12.65161528</td></tr>\n",
       "\t<tr><th scope=row>lnox</th><td>-0.45033297</td></tr>\n",
       "\t<tr><th scope=row>lproptax</th><td>-0.22737525</td></tr>\n",
       "\t<tr><th scope=row>crime</th><td>-0.01126515</td></tr>\n",
       "\t<tr><th scope=row>rooms</th><td> 0.09899825</td></tr>\n",
       "\t<tr><th scope=row>dist</th><td>-0.04880525</td></tr>\n",
       "\t<tr><th scope=row>radial</th><td> 0.01146933</td></tr>\n",
       "\t<tr><th scope=row>stratio</th><td>-0.04041845</td></tr>\n",
       "\t<tr><th scope=row>lowstat</th><td>-0.02826845</td></tr>\n",
       "</tbody>\n",
       "</table>\n"
      ],
      "text/latex": [
       "A matrix: 9 × 1 of type dbl\n",
       "\\begin{tabular}{r|l}\n",
       "\t(Intercept) & 12.65161528\\\\\n",
       "\tlnox & -0.45033297\\\\\n",
       "\tlproptax & -0.22737525\\\\\n",
       "\tcrime & -0.01126515\\\\\n",
       "\trooms &  0.09899825\\\\\n",
       "\tdist & -0.04880525\\\\\n",
       "\tradial &  0.01146933\\\\\n",
       "\tstratio & -0.04041845\\\\\n",
       "\tlowstat & -0.02826845\\\\\n",
       "\\end{tabular}\n"
      ],
      "text/markdown": [
       "\n",
       "A matrix: 9 × 1 of type dbl\n",
       "\n",
       "| (Intercept) | 12.65161528 |\n",
       "| lnox | -0.45033297 |\n",
       "| lproptax | -0.22737525 |\n",
       "| crime | -0.01126515 |\n",
       "| rooms |  0.09899825 |\n",
       "| dist | -0.04880525 |\n",
       "| radial |  0.01146933 |\n",
       "| stratio | -0.04041845 |\n",
       "| lowstat | -0.02826845 |\n",
       "\n"
      ],
      "text/plain": [
       "            [,1]       \n",
       "(Intercept) 12.65161528\n",
       "lnox        -0.45033297\n",
       "lproptax    -0.22737525\n",
       "crime       -0.01126515\n",
       "rooms        0.09899825\n",
       "dist        -0.04880525\n",
       "radial       0.01146933\n",
       "stratio     -0.04041845\n",
       "lowstat     -0.02826845"
      ]
     },
     "metadata": {},
     "output_type": "display_data"
    }
   ],
   "source": [
    "## calculating OLS by hand\n",
    "solve(t(X)%*%X)%*%(t(X)%*%hprice2$lprice)"
   ]
  },
  {
   "cell_type": "code",
   "execution_count": 9,
   "metadata": {
    "slideshow": {
     "slide_type": "fragment"
    }
   },
   "outputs": [
    {
     "data": {
      "text/html": [
       "<dl class=dl-horizontal>\n",
       "\t<dt>(Intercept)</dt>\n",
       "\t\t<dd>12.6516152789835</dd>\n",
       "\t<dt>lnox</dt>\n",
       "\t\t<dd>-0.450332967313502</dd>\n",
       "\t<dt>lproptax</dt>\n",
       "\t\t<dd>-0.227375247035042</dd>\n",
       "\t<dt>crime</dt>\n",
       "\t\t<dd>-0.0112651464300648</dd>\n",
       "\t<dt>rooms</dt>\n",
       "\t\t<dd>0.0989982473366931</dd>\n",
       "\t<dt>dist</dt>\n",
       "\t\t<dd>-0.0488052486950008</dd>\n",
       "\t<dt>radial</dt>\n",
       "\t\t<dd>0.0114693349197316</dd>\n",
       "\t<dt>stratio</dt>\n",
       "\t\t<dd>-0.0404184528234094</dd>\n",
       "\t<dt>lowstat</dt>\n",
       "\t\t<dd>-0.0282684469458024</dd>\n",
       "</dl>\n"
      ],
      "text/latex": [
       "\\begin{description*}\n",
       "\\item[(Intercept)] 12.6516152789835\n",
       "\\item[lnox] -0.450332967313502\n",
       "\\item[lproptax] -0.227375247035042\n",
       "\\item[crime] -0.0112651464300648\n",
       "\\item[rooms] 0.0989982473366931\n",
       "\\item[dist] -0.0488052486950008\n",
       "\\item[radial] 0.0114693349197316\n",
       "\\item[stratio] -0.0404184528234094\n",
       "\\item[lowstat] -0.0282684469458024\n",
       "\\end{description*}\n"
      ],
      "text/markdown": [
       "(Intercept)\n",
       ":   12.6516152789835lnox\n",
       ":   -0.450332967313502lproptax\n",
       ":   -0.227375247035042crime\n",
       ":   -0.0112651464300648rooms\n",
       ":   0.0989982473366931dist\n",
       ":   -0.0488052486950008radial\n",
       ":   0.0114693349197316stratio\n",
       ":   -0.0404184528234094lowstat\n",
       ":   -0.0282684469458024\n",
       "\n"
      ],
      "text/plain": [
       "(Intercept)        lnox    lproptax       crime       rooms        dist \n",
       "12.65161528 -0.45033297 -0.22737525 -0.01126515  0.09899825 -0.04880525 \n",
       "     radial     stratio     lowstat \n",
       " 0.01146933 -0.04041845 -0.02826845 "
      ]
     },
     "metadata": {},
     "output_type": "display_data"
    }
   ],
   "source": [
    "## calculating OLS using the `lm' command in R\n",
    "coef(lm(f,data=hprice2))"
   ]
  },
  {
   "cell_type": "markdown",
   "metadata": {
    "slideshow": {
     "slide_type": "slide"
    }
   },
   "source": [
    "### The _Algebra_ of the OLS Estimator"
   ]
  },
  {
   "cell_type": "markdown",
   "metadata": {
    "slideshow": {
     "slide_type": "fragment"
    }
   },
   "source": [
    "💻 We now save the ```lm``` object and call it ```ols```"
   ]
  },
  {
   "cell_type": "code",
   "execution_count": 10,
   "metadata": {
    "slideshow": {
     "slide_type": "fragment"
    }
   },
   "outputs": [],
   "source": [
    "ols <- lm(f,data=hprice2)"
   ]
  },
  {
   "cell_type": "markdown",
   "metadata": {
    "slideshow": {
     "slide_type": "fragment"
    }
   },
   "source": [
    "*Fitted Values*: $\\widehat{\\mathbf{y}}=\\mathbf{X}\\widehat{\\boldsymbol{\\beta}}$.\n",
    "\n",
    "*Residuals*: $\\widehat{\\mathbf{e}}=\\mathbf{y}-\\mathbf{X} \\widehat{\\boldsymbol{\\beta}}$."
   ]
  },
  {
   "cell_type": "code",
   "execution_count": 11,
   "metadata": {
    "slideshow": {
     "slide_type": "fragment"
    }
   },
   "outputs": [
    {
     "data": {
      "text/html": [
       "<table>\n",
       "<caption>A data.frame: 6 × 3</caption>\n",
       "<thead>\n",
       "\t<tr><th scope=col>y</th><th scope=col>y.hat</th><th scope=col>e.hat</th></tr>\n",
       "\t<tr><th scope=col>&lt;dbl&gt;</th><th scope=col>&lt;dbl&gt;</th><th scope=col>&lt;dbl&gt;</th></tr>\n",
       "</thead>\n",
       "<tbody>\n",
       "\t<tr><td>10.085809</td><td>10.30303</td><td>-0.21721714</td></tr>\n",
       "\t<tr><td> 9.980402</td><td>10.14543</td><td>-0.16502460</td></tr>\n",
       "\t<tr><td>10.454495</td><td>10.36512</td><td> 0.08937843</td></tr>\n",
       "\t<tr><td>10.416311</td><td>10.33025</td><td> 0.08606122</td></tr>\n",
       "\t<tr><td>10.496787</td><td>10.27712</td><td> 0.21966567</td></tr>\n",
       "\t<tr><td>10.264688</td><td>10.20967</td><td> 0.05501335</td></tr>\n",
       "</tbody>\n",
       "</table>\n"
      ],
      "text/latex": [
       "A data.frame: 6 × 3\n",
       "\\begin{tabular}{r|lll}\n",
       " y & y.hat & e.hat\\\\\n",
       " <dbl> & <dbl> & <dbl>\\\\\n",
       "\\hline\n",
       "\t 10.085809 & 10.30303 & -0.21721714\\\\\n",
       "\t  9.980402 & 10.14543 & -0.16502460\\\\\n",
       "\t 10.454495 & 10.36512 &  0.08937843\\\\\n",
       "\t 10.416311 & 10.33025 &  0.08606122\\\\\n",
       "\t 10.496787 & 10.27712 &  0.21966567\\\\\n",
       "\t 10.264688 & 10.20967 &  0.05501335\\\\\n",
       "\\end{tabular}\n"
      ],
      "text/markdown": [
       "\n",
       "A data.frame: 6 × 3\n",
       "\n",
       "| y &lt;dbl&gt; | y.hat &lt;dbl&gt; | e.hat &lt;dbl&gt; |\n",
       "|---|---|---|\n",
       "| 10.085809 | 10.30303 | -0.21721714 |\n",
       "|  9.980402 | 10.14543 | -0.16502460 |\n",
       "| 10.454495 | 10.36512 |  0.08937843 |\n",
       "| 10.416311 | 10.33025 |  0.08606122 |\n",
       "| 10.496787 | 10.27712 |  0.21966567 |\n",
       "| 10.264688 | 10.20967 |  0.05501335 |\n",
       "\n"
      ],
      "text/plain": [
       "  y         y.hat    e.hat      \n",
       "1 10.085809 10.30303 -0.21721714\n",
       "2  9.980402 10.14543 -0.16502460\n",
       "3 10.454495 10.36512  0.08937843\n",
       "4 10.416311 10.33025  0.08606122\n",
       "5 10.496787 10.27712  0.21966567\n",
       "6 10.264688 10.20967  0.05501335"
      ]
     },
     "metadata": {},
     "output_type": "display_data"
    }
   ],
   "source": [
    "## OLS: printing the first 6 outcomes, fitted values, & residuals\n",
    "head(data.frame(y=hprice2$lprice,y.hat=fitted(ols),e.hat=resid(ols)))"
   ]
  },
  {
   "cell_type": "markdown",
   "metadata": {
    "slideshow": {
     "slide_type": "subslide"
    }
   },
   "source": [
    "*Orthogonality*: $\\mathbf{X}^{\\prime}\\widehat{\\mathbf{e}}=\\mathbf{0}$.\n",
    "\n",
    "✏️ This follows from $\\left.  \\partial \\mathrm{SSE}(\\mathbf{b})/\\partial\\mathbf{b}\\right\\vert _{\\mathbf{b}=\\widehat{\\boldsymbol{\\beta}}\n",
    "}=\\mathbf{0}$, since $$-2\\mathbf{X}^{\\prime}(\\mathbf{y}-\\mathbf{X\\widehat{\\boldsymbol{\\beta}}})=-2\\mathbf{X}^{\\prime}\\widehat{\\mathbf{e}}=\\mathbf{0}$$"
   ]
  },
  {
   "cell_type": "code",
   "execution_count": 12,
   "metadata": {
    "slideshow": {
     "slide_type": "fragment"
    }
   },
   "outputs": [
    {
     "data": {
      "text/html": [
       "<table>\n",
       "<caption>A matrix: 9 × 1 of type dbl</caption>\n",
       "<tbody>\n",
       "\t<tr><th scope=row>(Intercept)</th><td>0</td></tr>\n",
       "\t<tr><th scope=row>lnox</th><td>0</td></tr>\n",
       "\t<tr><th scope=row>lproptax</th><td>0</td></tr>\n",
       "\t<tr><th scope=row>crime</th><td>0</td></tr>\n",
       "\t<tr><th scope=row>rooms</th><td>0</td></tr>\n",
       "\t<tr><th scope=row>dist</th><td>0</td></tr>\n",
       "\t<tr><th scope=row>radial</th><td>0</td></tr>\n",
       "\t<tr><th scope=row>stratio</th><td>0</td></tr>\n",
       "\t<tr><th scope=row>lowstat</th><td>0</td></tr>\n",
       "</tbody>\n",
       "</table>\n"
      ],
      "text/latex": [
       "A matrix: 9 × 1 of type dbl\n",
       "\\begin{tabular}{r|l}\n",
       "\t(Intercept) & 0\\\\\n",
       "\tlnox & 0\\\\\n",
       "\tlproptax & 0\\\\\n",
       "\tcrime & 0\\\\\n",
       "\trooms & 0\\\\\n",
       "\tdist & 0\\\\\n",
       "\tradial & 0\\\\\n",
       "\tstratio & 0\\\\\n",
       "\tlowstat & 0\\\\\n",
       "\\end{tabular}\n"
      ],
      "text/markdown": [
       "\n",
       "A matrix: 9 × 1 of type dbl\n",
       "\n",
       "| (Intercept) | 0 |\n",
       "| lnox | 0 |\n",
       "| lproptax | 0 |\n",
       "| crime | 0 |\n",
       "| rooms | 0 |\n",
       "| dist | 0 |\n",
       "| radial | 0 |\n",
       "| stratio | 0 |\n",
       "| lowstat | 0 |\n",
       "\n"
      ],
      "text/plain": [
       "            [,1]\n",
       "(Intercept) 0   \n",
       "lnox        0   \n",
       "lproptax    0   \n",
       "crime       0   \n",
       "rooms       0   \n",
       "dist        0   \n",
       "radial      0   \n",
       "stratio     0   \n",
       "lowstat     0   "
      ]
     },
     "metadata": {},
     "output_type": "display_data"
    }
   ],
   "source": [
    "## OLS: showing the orthogonality of the residuals and predictors\n",
    "round(t(X)%*%resid(ols))"
   ]
  },
  {
   "cell_type": "markdown",
   "metadata": {
    "slideshow": {
     "slide_type": "subslide"
    }
   },
   "source": [
    "*Analysis-of-variance*:\n",
    "\n",
    "$$\n",
    "\\begin{aligned}\n",
    "\\sum_{i=1}^{n}\\left(y_{i}-\\bar{y}\\right)^{2}&=\\sum_{i=1}^{n}\\left(\\widehat{y}_{i}-\\bar{y}\\right)^{2}+\\sum_{i=1}^{n} \\widehat{e}_{i}^{2},\\\\\n",
    "\\text{Total Sum of Squares}&=\\text{Explained Sum of Squares} + \\text{Residual Sum of Squares},\\\\\n",
    "\\left(\\mathbf{y}-\\boldsymbol{\\iota}_{n} \\bar{y}\\right)^{\\prime}\\left(\\mathbf{y}-\\boldsymbol{\\iota}_{n} \\bar{y}\\right)&=\\left(\\widehat{\\mathbf{y}}-\\boldsymbol{\\iota}_{n} \\bar{y}\\right)^{\\prime}\\left(\\widehat{\\mathbf{y}}-\\boldsymbol{\\iota}_{n} \\bar{y}\\right)+\\widehat{\\mathbf{e}}^{\\prime} \\widehat{\\mathbf{e}}.\n",
    "\\end{aligned}\n",
    "$$\n",
    "\n",
    "where $\\boldsymbol{\\iota}_n$ is a $n\\times 1$ vector of ones."
   ]
  },
  {
   "cell_type": "code",
   "execution_count": 13,
   "metadata": {
    "slideshow": {
     "slide_type": "fragment"
    }
   },
   "outputs": [
    {
     "data": {
      "text/html": [
       "<table>\n",
       "<caption>A anova: 9 × 5</caption>\n",
       "<thead>\n",
       "\t<tr><th></th><th scope=col>Df</th><th scope=col>Sum Sq</th><th scope=col>Mean Sq</th><th scope=col>F value</th><th scope=col>Pr(&gt;F)</th></tr>\n",
       "\t<tr><th></th><th scope=col>&lt;int&gt;</th><th scope=col>&lt;dbl&gt;</th><th scope=col>&lt;dbl&gt;</th><th scope=col>&lt;dbl&gt;</th><th scope=col>&lt;dbl&gt;</th></tr>\n",
       "</thead>\n",
       "<tbody>\n",
       "\t<tr><th scope=row>lnox</th><td>  1</td><td>22.2916542</td><td>22.29165416</td><td>562.695395</td><td>9.490832e-84</td></tr>\n",
       "\t<tr><th scope=row>lproptax</th><td>  1</td><td> 6.9016927</td><td> 6.90169273</td><td>174.215457</td><td>2.590304e-34</td></tr>\n",
       "\t<tr><th scope=row>crime</th><td>  1</td><td> 5.1788644</td><td> 5.17886444</td><td>130.727094</td><td>4.892131e-27</td></tr>\n",
       "\t<tr><th scope=row>rooms</th><td>  1</td><td>17.3745141</td><td>17.37451408</td><td>438.574858</td><td>2.809473e-70</td></tr>\n",
       "\t<tr><th scope=row>dist</th><td>  1</td><td> 0.8261832</td><td> 0.82618318</td><td> 20.854866</td><td>6.254444e-06</td></tr>\n",
       "\t<tr><th scope=row>radial</th><td>  1</td><td> 0.1908401</td><td> 0.19084008</td><td>  4.817266</td><td>2.863784e-02</td></tr>\n",
       "\t<tr><th scope=row>stratio</th><td>  1</td><td> 3.5012396</td><td> 3.50123960</td><td> 88.379776</td><td>1.975206e-19</td></tr>\n",
       "\t<tr><th scope=row>lowstat</th><td>  1</td><td> 8.6281612</td><td> 8.62816119</td><td>217.795707</td><td>3.890429e-41</td></tr>\n",
       "\t<tr><th scope=row>Residuals</th><td>497</td><td>19.6890755</td><td> 0.03961585</td><td>        NA</td><td>          NA</td></tr>\n",
       "</tbody>\n",
       "</table>\n"
      ],
      "text/latex": [
       "A anova: 9 × 5\n",
       "\\begin{tabular}{r|lllll}\n",
       "  & Df & Sum Sq & Mean Sq & F value & Pr(>F)\\\\\n",
       "  & <int> & <dbl> & <dbl> & <dbl> & <dbl>\\\\\n",
       "\\hline\n",
       "\tlnox &   1 & 22.2916542 & 22.29165416 & 562.695395 & 9.490832e-84\\\\\n",
       "\tlproptax &   1 &  6.9016927 &  6.90169273 & 174.215457 & 2.590304e-34\\\\\n",
       "\tcrime &   1 &  5.1788644 &  5.17886444 & 130.727094 & 4.892131e-27\\\\\n",
       "\trooms &   1 & 17.3745141 & 17.37451408 & 438.574858 & 2.809473e-70\\\\\n",
       "\tdist &   1 &  0.8261832 &  0.82618318 &  20.854866 & 6.254444e-06\\\\\n",
       "\tradial &   1 &  0.1908401 &  0.19084008 &   4.817266 & 2.863784e-02\\\\\n",
       "\tstratio &   1 &  3.5012396 &  3.50123960 &  88.379776 & 1.975206e-19\\\\\n",
       "\tlowstat &   1 &  8.6281612 &  8.62816119 & 217.795707 & 3.890429e-41\\\\\n",
       "\tResiduals & 497 & 19.6890755 &  0.03961585 &         NA &           NA\\\\\n",
       "\\end{tabular}\n"
      ],
      "text/markdown": [
       "\n",
       "A anova: 9 × 5\n",
       "\n",
       "| <!--/--> | Df &lt;int&gt; | Sum Sq &lt;dbl&gt; | Mean Sq &lt;dbl&gt; | F value &lt;dbl&gt; | Pr(&gt;F) &lt;dbl&gt; |\n",
       "|---|---|---|---|---|---|\n",
       "| lnox |   1 | 22.2916542 | 22.29165416 | 562.695395 | 9.490832e-84 |\n",
       "| lproptax |   1 |  6.9016927 |  6.90169273 | 174.215457 | 2.590304e-34 |\n",
       "| crime |   1 |  5.1788644 |  5.17886444 | 130.727094 | 4.892131e-27 |\n",
       "| rooms |   1 | 17.3745141 | 17.37451408 | 438.574858 | 2.809473e-70 |\n",
       "| dist |   1 |  0.8261832 |  0.82618318 |  20.854866 | 6.254444e-06 |\n",
       "| radial |   1 |  0.1908401 |  0.19084008 |   4.817266 | 2.863784e-02 |\n",
       "| stratio |   1 |  3.5012396 |  3.50123960 |  88.379776 | 1.975206e-19 |\n",
       "| lowstat |   1 |  8.6281612 |  8.62816119 | 217.795707 | 3.890429e-41 |\n",
       "| Residuals | 497 | 19.6890755 |  0.03961585 |         NA |           NA |\n",
       "\n"
      ],
      "text/plain": [
       "          Df  Sum Sq     Mean Sq     F value    Pr(>F)      \n",
       "lnox        1 22.2916542 22.29165416 562.695395 9.490832e-84\n",
       "lproptax    1  6.9016927  6.90169273 174.215457 2.590304e-34\n",
       "crime       1  5.1788644  5.17886444 130.727094 4.892131e-27\n",
       "rooms       1 17.3745141 17.37451408 438.574858 2.809473e-70\n",
       "dist        1  0.8261832  0.82618318  20.854866 6.254444e-06\n",
       "radial      1  0.1908401  0.19084008   4.817266 2.863784e-02\n",
       "stratio     1  3.5012396  3.50123960  88.379776 1.975206e-19\n",
       "lowstat     1  8.6281612  8.62816119 217.795707 3.890429e-41\n",
       "Residuals 497 19.6890755  0.03961585         NA           NA"
      ]
     },
     "metadata": {},
     "output_type": "display_data"
    },
    {
     "data": {
      "text/html": [
       "84.5822249643088"
      ],
      "text/latex": [
       "84.5822249643088"
      ],
      "text/markdown": [
       "84.5822249643088"
      ],
      "text/plain": [
       "[1] 84.58222"
      ]
     },
     "metadata": {},
     "output_type": "display_data"
    },
    {
     "data": {
      "text/html": [
       "64.8931494608044"
      ],
      "text/latex": [
       "64.8931494608044"
      ],
      "text/markdown": [
       "64.8931494608044"
      ],
      "text/plain": [
       "[1] 64.89315"
      ]
     },
     "metadata": {},
     "output_type": "display_data"
    },
    {
     "data": {
      "text/html": [
       "19.6890755035044"
      ],
      "text/latex": [
       "19.6890755035044"
      ],
      "text/markdown": [
       "19.6890755035044"
      ],
      "text/plain": [
       "[1] 19.68908"
      ]
     },
     "metadata": {},
     "output_type": "display_data"
    }
   ],
   "source": [
    "anova(ols)\n",
    "\n",
    "## OLS: total sum of squares\n",
    "sum(anova(ols)[,2])\n",
    "\n",
    "## OLS: explained sum of squares\n",
    "sum(anova(ols)[-9,2])\n",
    "\n",
    "## OLS: residual sum of squares\n",
    "sum(anova(ols)[9,2])"
   ]
  },
  {
   "cell_type": "markdown",
   "metadata": {
    "slideshow": {
     "slide_type": "subslide"
    }
   },
   "source": [
    "*Coefficient of Determination* (*$R^2$*):\n",
    "\n",
    "$$\n",
    "R^{2}=\\frac{\\sum_{i=1}^{n}\\left(\\widehat{y}_{i}-\\bar{y}\\right)^{2}}{\\sum_{i=1}^{n}\\left(y_{i}-\\bar{y}\\right)^{2}}=1-\\frac{\\sum_{i=1}^{n} \\widehat{e}_{i}^{2}}{\\sum_{i=1}^{n}\\left(y_{i}-\\bar{y}\\right)^{2}}.\n",
    "$$\n",
    "\n",
    "✏️ More generally the $R^2$ in most models (linear and *non-linear*) is defined as $(\\widehat{\\text{corr}(\\widehat{y},y)})^2$, i.e., the squared of the sample correlation coefficient between the true values and the fitted values."
   ]
  },
  {
   "cell_type": "code",
   "execution_count": 14,
   "metadata": {
    "slideshow": {
     "slide_type": "fragment"
    }
   },
   "outputs": [
    {
     "data": {
      "text/html": [
       "0.767219702345114"
      ],
      "text/latex": [
       "0.767219702345114"
      ],
      "text/markdown": [
       "0.767219702345114"
      ],
      "text/plain": [
       "[1] 0.7672197"
      ]
     },
     "metadata": {},
     "output_type": "display_data"
    },
    {
     "data": {
      "text/html": [
       "0.767219702345114"
      ],
      "text/latex": [
       "0.767219702345114"
      ],
      "text/markdown": [
       "0.767219702345114"
      ],
      "text/plain": [
       "[1] 0.7672197"
      ]
     },
     "metadata": {},
     "output_type": "display_data"
    }
   ],
   "source": [
    "## OLS: R2 (manually)\n",
    "sum(anova(ols)[-9,2])/sum(anova(ols)[,2])\n",
    "\n",
    "## OLS: R2 (from lm)\n",
    "summary(ols)$r.squared"
   ]
  },
  {
   "cell_type": "markdown",
   "metadata": {
    "slideshow": {
     "slide_type": "subslide"
    }
   },
   "source": [
    "*Adjusted R-squared* ($\\overline{R}^2$):\n",
    "\n",
    "$$\n",
    "\\overline{R}^{2}=1-\\frac{(n-1) \\sum_{i=1}^{n} \\widehat{e}_{i}^{2}}{(n-k-1) \\sum_{i=1}^{n}\\left(y_{i}-\\bar{y}\\right)^{2}}\n",
    "$$\n",
    "\n",
    "✏️ Unlike the $R^2$ which cannot decrease as $k$ increases, $\\overline{R}^2$ can either increase _or_ decrease with $k$."
   ]
  },
  {
   "cell_type": "code",
   "execution_count": 15,
   "metadata": {
    "slideshow": {
     "slide_type": "fragment"
    }
   },
   "outputs": [
    {
     "data": {
      "text/html": [
       "0.763472735783264"
      ],
      "text/latex": [
       "0.763472735783264"
      ],
      "text/markdown": [
       "0.763472735783264"
      ],
      "text/plain": [
       "[1] 0.7634727"
      ]
     },
     "metadata": {},
     "output_type": "display_data"
    },
    {
     "data": {
      "text/html": [
       "0.763472735783265"
      ],
      "text/latex": [
       "0.763472735783265"
      ],
      "text/markdown": [
       "0.763472735783265"
      ],
      "text/plain": [
       "[1] 0.7634727"
      ]
     },
     "metadata": {},
     "output_type": "display_data"
    }
   ],
   "source": [
    "## OLS: adj. R2 (manually)\n",
    "1-(sum(anova(ols)[9,2])/sum(anova(ols)[,2]))*(sum(anova(ols)[,1])/anova(ols)[9,1])\n",
    "\n",
    "## OLS: adj. R2 (from lm)\n",
    "summary(ols)$adj.r.squared"
   ]
  },
  {
   "cell_type": "markdown",
   "metadata": {
    "slideshow": {
     "slide_type": "subslide"
    }
   },
   "source": [
    "*Leverage Values*:\n",
    "\n",
    "The [leverage values](https://en.wikipedia.org/wiki/Leverage_(statistics)) for the design matrix $\\mathbf{X}$ are the [diagonal](https://en.wikipedia.org/wiki/Main_diagonal) elements of the matrix $\\mathbf{X}\\left(\\mathbf{X}^{\\prime} \\mathbf{X}\\right)^{-1} \\mathbf{X}^{\\prime}$. There are $n$ leverage values, and are typically written as $h_{i i}$ for $i=1, \\ldots, n$. since\n",
    "\n",
    "$$\n",
    "\\mathbf{X}\\left(\\mathbf{X}^{\\prime} \\mathbf{X}\\right)^{-1} \\mathbf{X}^{\\prime}=\n",
    "\\left(\\begin{array}{c}{\\mathbf{x}_{1}^{\\prime}} \\\\ {\\mathbf{x}_{2}^{\\prime}} \\\\ {\\vdots} \\\\ {\\mathbf{x}_{n}^{\\prime}}\\end{array}\\right)\\left(\\mathbf{X}^{\\prime} \\mathbf{X}\\right)^{-1}\\left(\\begin{array}{llll}{\\mathbf{x}_{1}} & {\\mathbf{x}_{2}} & {\\cdots} & {\\mathbf{x}_{n}}\\end{array}\\right)\n",
    "$$\n",
    "\n",
    "they are\n",
    "$$\n",
    "h_{i i}=\\mathbf{x}_{i}^{\\prime}\\left(\\mathbf{X}^{\\prime} \\mathbf{X}\\right)^{-1} \\mathbf{x}_{i}.\n",
    "$$"
   ]
  },
  {
   "cell_type": "code",
   "execution_count": 16,
   "metadata": {
    "slideshow": {
     "slide_type": "fragment"
    }
   },
   "outputs": [
    {
     "data": {
      "text/html": [
       "<dl class=dl-horizontal>\n",
       "\t<dt>1</dt>\n",
       "\t\t<dd>0.0097277722372269</dd>\n",
       "\t<dt>2</dt>\n",
       "\t\t<dd>0.00465545395793307</dd>\n",
       "\t<dt>3</dt>\n",
       "\t\t<dd>0.0074592726670534</dd>\n",
       "\t<dt>4</dt>\n",
       "\t\t<dd>0.0115963682579207</dd>\n",
       "\t<dt>5</dt>\n",
       "\t\t<dd>0.0114714404744165</dd>\n",
       "\t<dt>6</dt>\n",
       "\t\t<dd>0.0101546190783857</dd>\n",
       "</dl>\n"
      ],
      "text/latex": [
       "\\begin{description*}\n",
       "\\item[1] 0.0097277722372269\n",
       "\\item[2] 0.00465545395793307\n",
       "\\item[3] 0.0074592726670534\n",
       "\\item[4] 0.0115963682579207\n",
       "\\item[5] 0.0114714404744165\n",
       "\\item[6] 0.0101546190783857\n",
       "\\end{description*}\n"
      ],
      "text/markdown": [
       "1\n",
       ":   0.00972777223722692\n",
       ":   0.004655453957933073\n",
       ":   0.00745927266705344\n",
       ":   0.01159636825792075\n",
       ":   0.01147144047441656\n",
       ":   0.0101546190783857\n",
       "\n"
      ],
      "text/plain": [
       "          1           2           3           4           5           6 \n",
       "0.009727772 0.004655454 0.007459273 0.011596368 0.011471440 0.010154619 "
      ]
     },
     "metadata": {},
     "output_type": "display_data"
    }
   ],
   "source": [
    "## OLS: leverage values\n",
    "hii <- hatvalues(ols)\n",
    "head(hii)"
   ]
  },
  {
   "cell_type": "markdown",
   "metadata": {
    "slideshow": {
     "slide_type": "subslide"
    }
   },
   "source": [
    "*Prediction Error* (leave-one-out residual or prediction residual):\n",
    "\n",
    "$$\\widetilde{e}_{i}=y_{i}-\\widetilde{y}_{i},$$ \n",
    "\n",
    "where we use the leave-one-out predicted value for $y_i$, i.e.,\n",
    "\n",
    "$$\n",
    "\\widetilde{y}_{i}=\\mathbf{x}_{i}^{\\prime} \\widehat{\\boldsymbol{\\beta}}_{(-i)},$$\n",
    "\n",
    "and\n",
    "\n",
    "$$\n",
    "\\begin{aligned} \\widehat{\\boldsymbol{\\beta}}_{(-i)} &=\\left(\\sum_{j \\neq i} \\mathbf{x}_{j} \\mathbf{x}_{j}^{\\prime}\\right)^{-1}\\left(\\sum_{j \\neq i} \\mathbf{x}_{j} y_{j}\\right) \\\\ &=\\left(\\mathbf{X}^{\\prime} \\mathbf{X}-\\mathbf{x}_{i} \\mathbf{x}_{i}^{\\prime}\\right)^{-1}\\left(\\mathbf{X}^{\\prime} \\mathbf{y}-\\mathbf{x}_{i} y_{i}\\right) \\\\ &=\\left(\\mathbf{X}_{(-i)}^{\\prime} \\mathbf{X}_{(-i)}\\right)^{-1} \\mathbf{X}_{(-i)}^{\\prime} \\mathbf{y}_{(-i)}. \\end{aligned}\n",
    "$$\n",
    "\n",
    "Here, $\\mathbf{X}_{(-i)}$ and $\\mathbf{y}_{(-i)}$ are the data matrices omitting the $i$th row. The notation $\\widehat{\\boldsymbol{\\beta}}_{(-i)}$ or $\\widehat{\\boldsymbol{\\beta}}_{-i}$ is commonly\n",
    "used to denote an estimator with the $i$th observation omitted."
   ]
  },
  {
   "cell_type": "markdown",
   "metadata": {
    "slideshow": {
     "slide_type": "subslide"
    }
   },
   "source": [
    "✏️ There is a leave-one-out estimator for each observation, $i=1,\\ldots,n$ so we have $n$ such estimators, and one can show that\n",
    "\n",
    "$$\n",
    "\\widehat{\\boldsymbol{\\beta}}_{(-i)}=\\widehat{\\boldsymbol{\\beta}}-\\left(\\mathbf{X}^{\\prime} \\mathbf{X}\\right)^{-1} \\mathbf{x}_{i} \\widetilde{e}_{i},\n",
    "$$\n",
    "\n",
    "and\n",
    "\n",
    "$$\n",
    "\\widetilde{e}_{i}=\\left(1-h_{i i}\\right)^{-1} \\widehat{e}_{i}.\n",
    "$$"
   ]
  },
  {
   "cell_type": "code",
   "execution_count": 17,
   "metadata": {
    "slideshow": {
     "slide_type": "fragment"
    }
   },
   "outputs": [],
   "source": [
    "## OLS: original residuals\n",
    "e.hat <- resid(ols)\n",
    "\n",
    "## OLS: calculating the prediction error\n",
    "e.tilde <- resid(ols)/(1-hii)"
   ]
  },
  {
   "cell_type": "code",
   "execution_count": 18,
   "metadata": {
    "slideshow": {
     "slide_type": "fragment"
    }
   },
   "outputs": [
    {
     "data": {
      "text/html": [
       "<table>\n",
       "<caption>A data.frame: 9 × 2</caption>\n",
       "<thead>\n",
       "\t<tr><th></th><th scope=col>beta.hat</th><th scope=col>beta.hat.i</th></tr>\n",
       "\t<tr><th></th><th scope=col>&lt;dbl&gt;</th><th scope=col>&lt;dbl&gt;</th></tr>\n",
       "</thead>\n",
       "<tbody>\n",
       "\t<tr><th scope=row>(Intercept)</th><td>12.65161528</td><td>12.63379462</td></tr>\n",
       "\t<tr><th scope=row>lnox</th><td>-0.45033297</td><td>-0.43807488</td></tr>\n",
       "\t<tr><th scope=row>lproptax</th><td>-0.22737525</td><td>-0.22704671</td></tr>\n",
       "\t<tr><th scope=row>crime</th><td>-0.01126515</td><td>-0.01123915</td></tr>\n",
       "\t<tr><th scope=row>rooms</th><td> 0.09899825</td><td> 0.09892166</td></tr>\n",
       "\t<tr><th scope=row>dist</th><td>-0.04880525</td><td>-0.04835558</td></tr>\n",
       "\t<tr><th scope=row>radial</th><td> 0.01146933</td><td> 0.01133881</td></tr>\n",
       "\t<tr><th scope=row>stratio</th><td>-0.04041845</td><td>-0.04063136</td></tr>\n",
       "\t<tr><th scope=row>lowstat</th><td>-0.02826845</td><td>-0.02832011</td></tr>\n",
       "</tbody>\n",
       "</table>\n"
      ],
      "text/latex": [
       "A data.frame: 9 × 2\n",
       "\\begin{tabular}{r|ll}\n",
       "  & beta.hat & beta.hat.i\\\\\n",
       "  & <dbl> & <dbl>\\\\\n",
       "\\hline\n",
       "\t(Intercept) & 12.65161528 & 12.63379462\\\\\n",
       "\tlnox & -0.45033297 & -0.43807488\\\\\n",
       "\tlproptax & -0.22737525 & -0.22704671\\\\\n",
       "\tcrime & -0.01126515 & -0.01123915\\\\\n",
       "\trooms &  0.09899825 &  0.09892166\\\\\n",
       "\tdist & -0.04880525 & -0.04835558\\\\\n",
       "\tradial &  0.01146933 &  0.01133881\\\\\n",
       "\tstratio & -0.04041845 & -0.04063136\\\\\n",
       "\tlowstat & -0.02826845 & -0.02832011\\\\\n",
       "\\end{tabular}\n"
      ],
      "text/markdown": [
       "\n",
       "A data.frame: 9 × 2\n",
       "\n",
       "| <!--/--> | beta.hat &lt;dbl&gt; | beta.hat.i &lt;dbl&gt; |\n",
       "|---|---|---|\n",
       "| (Intercept) | 12.65161528 | 12.63379462 |\n",
       "| lnox | -0.45033297 | -0.43807488 |\n",
       "| lproptax | -0.22737525 | -0.22704671 |\n",
       "| crime | -0.01126515 | -0.01123915 |\n",
       "| rooms |  0.09899825 |  0.09892166 |\n",
       "| dist | -0.04880525 | -0.04835558 |\n",
       "| radial |  0.01146933 |  0.01133881 |\n",
       "| stratio | -0.04041845 | -0.04063136 |\n",
       "| lowstat | -0.02826845 | -0.02832011 |\n",
       "\n"
      ],
      "text/plain": [
       "            beta.hat    beta.hat.i \n",
       "(Intercept) 12.65161528 12.63379462\n",
       "lnox        -0.45033297 -0.43807488\n",
       "lproptax    -0.22737525 -0.22704671\n",
       "crime       -0.01126515 -0.01123915\n",
       "rooms        0.09899825  0.09892166\n",
       "dist        -0.04880525 -0.04835558\n",
       "radial       0.01146933  0.01133881\n",
       "stratio     -0.04041845 -0.04063136\n",
       "lowstat     -0.02826845 -0.02832011"
      ]
     },
     "metadata": {},
     "output_type": "display_data"
    }
   ],
   "source": [
    "## OLS: manually re-calculating OLS without observation 156\n",
    "data.frame(beta.hat=coef(ols),\n",
    "           beta.hat.i=coef(ols)-solve(t(X)%*%X)%*%X[156,]%*%e.tilde[156])"
   ]
  },
  {
   "cell_type": "markdown",
   "metadata": {
    "slideshow": {
     "slide_type": "subslide"
    }
   },
   "source": [
    "*Estimation of Error Variance*:\n",
    "\n",
    "The _unconditional_ error variance $\\sigma^2=E(e^2_{i})$ can be estimated as\n",
    "\n",
    "1. Estimator 1:\n",
    "\n",
    "$$s^{2}=\\frac{1}{n-k-1} \\sum_{i=1}^{n} \\widehat{e}_{i}^{2}.$$\n",
    "\n",
    "2. Estimator 2:\n",
    "\n",
    "$$\\widehat{\\sigma}^{2}=\\frac{1}{n} \\sum_{i=1}^{n} \\widehat{e}_{i}^{2}.$$\n",
    "\n",
    "3. Estimator 3:\n",
    "\n",
    "$$\\bar{\\sigma}^{2}=\\frac{1}{n} \\sum_{i=1}^{n} \\tilde{e}_{i}^{2}=\\frac{1}{n} \\sum_{i=1}^{n}\\left(1-h_{i i}\\right)^{-2} \\widehat{e}_{i}^{2}.$$\n"
   ]
  },
  {
   "cell_type": "markdown",
   "metadata": {
    "slideshow": {
     "slide_type": "subslide"
    }
   },
   "source": [
    "✏️ When $k / n$ is small (typically, this occurs when $n$ is large), the estimators $\\widehat{\\sigma}^{2}, s^{2}$ and $\\overline{\\sigma}^{2}$ are likely to be similar to one another. However, if $k / n$ is large then $s^{2}$ and $\\overline{\\sigma}^{2}$ are generally preferred to $\\widehat{\\sigma}^{2}$. Consequently it is best to use one of the bias-corrected variance estimators in applications."
   ]
  },
  {
   "cell_type": "code",
   "execution_count": 19,
   "metadata": {
    "slideshow": {
     "slide_type": "fragment"
    }
   },
   "outputs": [
    {
     "data": {
      "text/html": [
       "<table>\n",
       "<caption>A data.frame: 1 × 3</caption>\n",
       "<thead>\n",
       "\t<tr><th scope=col>s2</th><th scope=col>sigma.hat2</th><th scope=col>sigma.bar2</th></tr>\n",
       "\t<tr><th scope=col>&lt;dbl&gt;</th><th scope=col>&lt;dbl&gt;</th><th scope=col>&lt;dbl&gt;</th></tr>\n",
       "</thead>\n",
       "<tbody>\n",
       "\t<tr><td>0.03961585</td><td>0.03891122</td><td>0.04116642</td></tr>\n",
       "</tbody>\n",
       "</table>\n"
      ],
      "text/latex": [
       "A data.frame: 1 × 3\n",
       "\\begin{tabular}{r|lll}\n",
       " s2 & sigma.hat2 & sigma.bar2\\\\\n",
       " <dbl> & <dbl> & <dbl>\\\\\n",
       "\\hline\n",
       "\t 0.03961585 & 0.03891122 & 0.04116642\\\\\n",
       "\\end{tabular}\n"
      ],
      "text/markdown": [
       "\n",
       "A data.frame: 1 × 3\n",
       "\n",
       "| s2 &lt;dbl&gt; | sigma.hat2 &lt;dbl&gt; | sigma.bar2 &lt;dbl&gt; |\n",
       "|---|---|---|\n",
       "| 0.03961585 | 0.03891122 | 0.04116642 |\n",
       "\n"
      ],
      "text/plain": [
       "  s2         sigma.hat2 sigma.bar2\n",
       "1 0.03961585 0.03891122 0.04116642"
      ]
     },
     "metadata": {},
     "output_type": "display_data"
    }
   ],
   "source": [
    "## OLS: error variance estimators\n",
    "s2 <- sum(e.hat^2)/(length(e.hat)-dim(X)[2])\n",
    "sigma.hat2 <- sum(e.hat^2)/length(e.hat)\n",
    "sigma.bar2 <- sum((e.hat/(1-hii))^2)/length(e.hat)\n",
    "data.frame(s2=s2,sigma.hat2=sigma.hat2,sigma.bar2=sigma.bar2)"
   ]
  },
  {
   "cell_type": "markdown",
   "metadata": {
    "slideshow": {
     "slide_type": "slide"
    }
   },
   "source": [
    "### The _Finite Sample_ Properties of the OLS Estimator"
   ]
  },
  {
   "cell_type": "markdown",
   "metadata": {
    "slideshow": {
     "slide_type": "subslide"
    }
   },
   "source": [
    "**<span style=\"color:blue\">Mean of OLS:</span>** Under Assumptions MLR.1, MLR.2, MLR.3, and MLR.4 one has\n",
    "\n",
    "$\\begin{aligned} E(\\widehat{\\boldsymbol{\\beta}} | \\mathbf{X}) &=E\\left(\\left(\\mathbf{X}^{\\prime} \\mathbf{X}\\right)^{-1} \\mathbf{X}^{\\prime} \\mathbf{y} | \\mathbf{X}\\right) \\\\ &=\\left(\\mathbf{X}^{\\prime} \\mathbf{X}\\right)^{-1} \\mathbf{X}^{\\prime} E(\\mathbf{y} | \\mathbf{X}) \\\\ &=\\left(\\mathbf{X}^{\\prime} \\mathbf{X}\\right)^{-1} \\mathbf{X}^{\\prime} \\mathbf{X} \\boldsymbol{\\beta} \\\\ &=\\boldsymbol{\\beta} \\end{aligned}$"
   ]
  },
  {
   "cell_type": "markdown",
   "metadata": {
    "slideshow": {
     "slide_type": "subslide"
    }
   },
   "source": [
    "**<span style=\"color:blue\">Variance of OLS:</span>** Firstly, let us use the notation $\\mathbf{V}_{\\widehat{\\beta}} \\stackrel{d e f}{=} \\text{var}(\\widehat{\\boldsymbol{\\beta}} | \\mathbf{X})$ and recall from Assumption MLR.5 that var$(\\mathbf{e}|\\mathbf{X})=E[\\mathbf{e}\\mathbf{e}^{\\prime}|\\mathbf{X}]=\\mathbf{D}$. Then under Assumptions MLR.1, MLR.2, MLR.3, MLR.4, and MLR.5 one has\n",
    "\n",
    "$\\begin{aligned} \\mathbf{V}_{\\widehat{\\beta}} &=\\text{var}(\\widehat{\\boldsymbol{\\beta}} | \\mathbf{X}) \\\\ &=\\left(\\mathbf{X}^{\\prime} \\mathbf{X}\\right)^{-1}\\left(\\mathbf{X}^{\\prime} \\mathbf{D} \\mathbf{X}\\right)\\left(\\mathbf{X}^{\\prime} \\mathbf{X}\\right)^{-1} \\end{aligned}$"
   ]
  },
  {
   "cell_type": "markdown",
   "metadata": {
    "slideshow": {
     "slide_type": "fragment"
    }
   },
   "source": [
    "✏️ If one has *homoskedasticity*, i.e., $\\mathbf{D}=\\sigma^2\\mathbf{I}_n$, then $\\mathbf{V}_{\\widehat{\\boldsymbol{\\beta}}}=\\sigma^{2}\\left(\\mathbf{X}^{\\prime} \\mathbf{X}\\right)^{-1}$."
   ]
  },
  {
   "cell_type": "markdown",
   "metadata": {
    "slideshow": {
     "slide_type": "slide"
    }
   },
   "source": [
    "### Asymptotic Properties of the OLS Estimator"
   ]
  },
  {
   "cell_type": "markdown",
   "metadata": {
    "slideshow": {
     "slide_type": "subslide"
    }
   },
   "source": [
    "**<span style=\"color:blue\">(Asymptotic) Consistency of OLS:</span>** As $n\\rightarrow\\infty$, under Assumptions MLR.1, MLR.2, MLR.3 and MLR.4 one has\n",
    "\n",
    "$$\n",
    "\\widehat{\\boldsymbol{\\beta}}\\stackrel{p}{\\longrightarrow} \\boldsymbol{\\beta}\n",
    "$$\n",
    "\n",
    "<p style='text-align: right;'> <a href=\"https://en.wikipedia.org/wiki/Convergence_of_random_variables#Convergence_in_probability\" style=\"color: #cc0000\">Convergence in probability</a></p>"
   ]
  },
  {
   "cell_type": "markdown",
   "metadata": {
    "slideshow": {
     "slide_type": "subslide"
    }
   },
   "source": [
    "**<span style=\"color:blue\">(Asymptotic) Distribution of OLS:</span>** As $n\\rightarrow\\infty$, under Assumptions MLR.1, MLR.2, MLR.3, MLR.4, and MLR.5 one has\n",
    "\n",
    "$$\\sqrt{n}(\\widehat{\\boldsymbol{\\beta}}-\\boldsymbol{\\beta}) \\stackrel{d}{\\longrightarrow} \\mathbf{N}\\left(\\mathbf{0}, \\mathbf{V}_{\\boldsymbol{\\beta}}\\right),$$\n",
    "\n",
    "<p style='text-align: right;'> <a href=\"https://en.wikipedia.org/wiki/Convergence_of_random_variables#Convergence_in_distribution\" style=\"color: #cc0000\">Convergence in Distribution</a></p>\n",
    "\n",
    "where\n",
    "\n",
    "$$\n",
    "\\mathbf{V}_{\\boldsymbol{\\beta}}=E(\\mathbf{x}_i\\mathbf{x}_i^{\\prime})^{-1}E[\\mathbf{x}_{i}E(e_i^2|\\mathbf{x}_i)\\mathbf{x}_{i}^{\\prime}]E(\\mathbf{x}_i\\mathbf{x}_i^{\\prime})^{-1},\n",
    "$$\n",
    "\n",
    "and the notation $\\mathbf{N}(\\boldsymbol{\\mu},\\boldsymbol{\\Sigma})$ denotes a [multivariate normal distribution](https://en.wikipedia.org/wiki/Multivariate_normal_distribution). $\\mathbf{V}_{\\boldsymbol{\\beta}}$ is the asymptotic (asy.) [variance-covariance matrix](https://en.wikipedia.org/wiki/Covariance_matrix) of $\\sqrt{n}(\\widehat{\\boldsymbol{\\beta}}-\\boldsymbol{\\beta})$ and therefore $n^{-1}\\mathbf{V}_{\\boldsymbol{\\beta}}$ is the asymptotic variance of $\\widehat{\\boldsymbol{\\beta}}$ and it is generally _unknown_ and needs to be estimated.\n",
    "\n",
    "$$\n",
    "n^{-1}\\mathbf{V}_{\\boldsymbol{\\beta}}=\\left[\n",
    "\\begin{array}\n",
    "[c]{cccc}\n",
    "\\text{asy. var}(\\widehat{\\beta}_{0}) & \\text{asy. cov}(\\widehat{\\beta}\n",
    "_{0},\\widehat{\\beta}_{1}) & \\cdots & \\text{asy. cov}(\\widehat{\\beta}\n",
    "_{0},\\widehat{\\beta}_{k})\\\\\n",
    "\\text{asy. cov}(\\widehat{\\beta}_{1},\\widehat{\\beta}_{0}) & \\text{asy.\n",
    "var}(\\widehat{\\beta}_{1}) & \\cdots & \\text{asy. cov}(\\widehat{\\beta}\n",
    "_{1},\\widehat{\\beta}_{k})\\\\\n",
    "\\text{asy. cov}(\\widehat{\\beta}_{2},\\widehat{\\beta}_{0}) & \\text{asy.\n",
    "cov}(\\widehat{\\beta}_{2},\\widehat{\\beta}_{1}) & \\cdots & \\text{asy.\n",
    "cov}(\\widehat{\\beta}_{2},\\widehat{\\beta}_{k})\\\\\n",
    "\\vdots & \\vdots & \\ddots & \\vdots\\\\\n",
    "\\text{asy. cov}(\\widehat{\\beta}_{k},\\widehat{\\beta}_{0}) & \\text{asy.\n",
    "cov}(\\widehat{\\beta}_{k},\\widehat{\\beta}_{1}) & \\cdots & \\text{asy.\n",
    "var}(\\widehat{\\beta}_{k})\n",
    "\\end{array}\n",
    "\\right]\n",
    "$$\n",
    "\n",
    "✏️ Notice that $\\mathbf{V}_{\\boldsymbol{\\beta}}$ is a $(k+1)\\times(k+1)$ [square](https://en.wikipedia.org/wiki/Square_matrix), [symmetric](https://en.wikipedia.org/wiki/Symmetric_matrix), and [positive semi-definite](https://en.wikipedia.org/wiki/Definiteness_of_a_matrix) matrix."
   ]
  },
  {
   "cell_type": "markdown",
   "metadata": {
    "slideshow": {
     "slide_type": "subslide"
    }
   },
   "source": [
    "<ins>(Asymptotic) OLS Variance Estimation</ins>:"
   ]
  },
  {
   "cell_type": "markdown",
   "metadata": {
    "slideshow": {
     "slide_type": "fragment"
    }
   },
   "source": [
    "Firstly notice that\n",
    "\n",
    "$$\n",
    "\\begin{aligned} n\\mathbf{V}_{\\widehat{\\boldsymbol{\\beta}}} &=n\\text{ var}(\\widehat{\\boldsymbol{\\beta}} | \\mathbf{X}) \\\\ &=\\left(n^{-1}\\mathbf{X}^{\\prime} \\mathbf{X}\\right)^{-1}\\left(n^{-1}\\mathbf{X}^{\\prime} \\mathbf{D} \\mathbf{X}\\right)\\left(n^{-1}\\mathbf{X}^{\\prime} \\mathbf{X}\\right)^{-1}, \\end{aligned}\n",
    "$$\n",
    "\n",
    "and it has been shown that\n",
    "\n",
    "$$n \\mathbf{V}_{\\widehat{\\boldsymbol{\\beta}}} \\stackrel{p}{\\longrightarrow} \\mathbf{V}_{\\boldsymbol{\\beta}}$$\n",
    "\n",
    "<p style='text-align: right;'> <a href=\"https://en.wikipedia.org/wiki/Convergence_of_random_variables#Convergence_in_probability\" style=\"color: #cc0000\">Convergence in probability</a></p>\n",
    "\n",
    "🛑 Unfortunately $n\\mathbf{V}_{\\widehat{\\boldsymbol{\\beta}}}$ is _infeasible_ as matrix $\\mathbf{D}$ (defined in Assumption MLR.5) is *not known*."
   ]
  },
  {
   "cell_type": "markdown",
   "metadata": {
    "slideshow": {
     "slide_type": "subslide"
    }
   },
   "source": [
    "**<span style=\"color:red\">HC0:</span>**\n",
    "\n",
    "$$\n",
    "\\widehat{\\mathbf{V}}_{\\widehat{\\boldsymbol{\\beta}}}^{\\mathrm{HC0}}=\\left(\\mathbf{X}^{\\prime} \\mathbf{X}\\right)^{-1}\\left(\\sum_{i=1}^{n} \\mathbf{x}_{i} \\widehat{e}_{i}^{2}\\mathbf{x}_{i}^{\\prime} \\right)\\left(\\mathbf{X}^{\\prime} \\mathbf{X}\\right)^{-1}\n",
    "$$\n",
    "\n",
    "**<span style=\"color:red\">HC1:</span>** (most common in *econometrics*)\n",
    "\n",
    "$$\n",
    "\\widehat{\\mathbf{V}}_{\\widehat{\\boldsymbol{\\beta}}}^{\\mathrm{HCl}}=\\left(\\frac{n}{n-k-1}\\right)\\left(\\mathbf{X}^{\\prime} \\mathbf{X}\\right)^{-1}\\left(\\sum_{i=1}^{n} \\mathbf{x}_{i} \\widehat{e}_{i}^{2}\\mathbf{x}_{i}^{\\prime}\\right)\\left(\\mathbf{X}^{\\prime} \\mathbf{X}\\right)^{-1}\n",
    "$$\n",
    "\n",
    "**<span style=\"color:red\">HC2:</span>**\n",
    "\n",
    "$$\n",
    "\\widehat{\\mathbf{V}}_{\\widehat{\\boldsymbol{\\beta}}}^{\\mathrm{HC2}}=\\left(\\mathbf{X}^{\\prime} \\mathbf{X}\\right)^{-1}\\left(\\sum_{i=1}^{n} \\mathbf{x}_{i} \\left(1-h_{i i}\\right)^{-1}\\widehat{e}_{i}^{2} \\mathbf{x}_{i}^{\\prime} \\right)\\left(\\mathbf{X}^{\\prime} \\mathbf{X}\\right)^{-1}\n",
    "$$\n",
    "\n",
    "**<span style=\"color:red\">HC3:</span>**\n",
    "\n",
    "$$\n",
    "\\widehat{\\mathbf{V}}_{\\widehat{\\boldsymbol{\\beta}}}^{\\mathrm{HC3}}=\\left(\\mathbf{X}^{\\prime} \\mathbf{X}\\right)^{-1}\\left(\\sum_{i=1}^{n} \\mathbf{x}_{i} \\left(1-h_{i i}\\right)^{-2}\\widehat{e}_{i}^{2} \\mathbf{x}_{i}^{\\prime} \\right)\\left(\\mathbf{X}^{\\prime} \\mathbf{X}\\right)^{-1}\n",
    "$$"
   ]
  },
  {
   "cell_type": "markdown",
   "metadata": {
    "slideshow": {
     "slide_type": "subslide"
    }
   },
   "source": [
    "💻 Unfortunately the default variance covariance matrix reported in ```lm``` corresponds to the _homoskedastic_ case, i.e., $\\widehat{\\sigma}^2(\\mathbf{X}^{\\prime}\\mathbf{X})^{-1}$. All four estimators can be computed using the ```sandwich``` package."
   ]
  },
  {
   "cell_type": "code",
   "execution_count": 20,
   "metadata": {
    "slideshow": {
     "slide_type": "fragment"
    }
   },
   "outputs": [
    {
     "name": "stderr",
     "output_type": "stream",
     "text": [
      "Loading required package: sandwich\n"
     ]
    },
    {
     "data": {
      "text/html": [
       "<table>\n",
       "<caption>A matrix: 9 × 9 of type dbl</caption>\n",
       "<thead>\n",
       "\t<tr><th></th><th scope=col>(Intercept)</th><th scope=col>lnox</th><th scope=col>lproptax</th><th scope=col>crime</th><th scope=col>rooms</th><th scope=col>dist</th><th scope=col>radial</th><th scope=col>stratio</th><th scope=col>lowstat</th></tr>\n",
       "</thead>\n",
       "<tbody>\n",
       "\t<tr><th scope=row>(Intercept)</th><td> 1.530869e-01</td><td>-1.709982e-02</td><td>-1.078320e-02</td><td>-8.238498e-05</td><td>-6.900542e-03</td><td>-1.530573e-03</td><td> 7.055145e-04</td><td>-7.831443e-04</td><td>-1.962056e-04</td></tr>\n",
       "\t<tr><th scope=row>lnox</th><td>-1.709982e-02</td><td> 8.526408e-03</td><td>-4.168383e-04</td><td> 2.020985e-05</td><td> 4.034814e-04</td><td> 4.814653e-04</td><td>-6.726319e-05</td><td> 1.245946e-04</td><td>-8.910837e-05</td></tr>\n",
       "\t<tr><th scope=row>lproptax</th><td>-1.078320e-02</td><td>-4.168383e-04</td><td> 1.985017e-03</td><td> 3.713831e-06</td><td> 9.640707e-05</td><td>-2.093779e-05</td><td>-6.478039e-05</td><td> 6.953258e-06</td><td>-2.590446e-05</td></tr>\n",
       "\t<tr><th scope=row>crime</th><td>-8.238498e-05</td><td> 2.020985e-05</td><td> 3.713831e-06</td><td> 3.692526e-06</td><td> 3.200531e-06</td><td> 1.980757e-06</td><td>-1.997014e-06</td><td> 7.453163e-07</td><td>-7.067536e-07</td></tr>\n",
       "\t<tr><th scope=row>rooms</th><td>-6.900542e-03</td><td> 4.034814e-04</td><td> 9.640707e-05</td><td> 3.200531e-06</td><td> 6.603089e-04</td><td> 7.804628e-05</td><td>-2.521911e-05</td><td> 3.720269e-05</td><td> 5.703090e-05</td></tr>\n",
       "\t<tr><th scope=row>dist</th><td>-1.530573e-03</td><td> 4.814653e-04</td><td>-2.093779e-05</td><td> 1.980757e-06</td><td> 7.804628e-05</td><td> 5.287478e-05</td><td>-5.547542e-06</td><td> 6.199873e-06</td><td> 4.896066e-06</td></tr>\n",
       "\t<tr><th scope=row>radial</th><td> 7.055145e-04</td><td>-6.726319e-05</td><td>-6.478039e-05</td><td>-1.997014e-06</td><td>-2.521911e-05</td><td>-5.547542e-06</td><td> 6.470683e-06</td><td>-3.340557e-06</td><td>-1.229328e-06</td></tr>\n",
       "\t<tr><th scope=row>stratio</th><td>-7.831443e-04</td><td> 1.245946e-04</td><td> 6.953258e-06</td><td> 7.453163e-07</td><td> 3.720269e-05</td><td> 6.199873e-06</td><td>-3.340557e-06</td><td> 1.701580e-05</td><td>-1.098965e-06</td></tr>\n",
       "\t<tr><th scope=row>lowstat</th><td>-1.962056e-04</td><td>-8.910837e-05</td><td>-2.590446e-05</td><td>-7.067536e-07</td><td> 5.703090e-05</td><td> 4.896066e-06</td><td>-1.229328e-06</td><td>-1.098965e-06</td><td> 1.262944e-05</td></tr>\n",
       "</tbody>\n",
       "</table>\n"
      ],
      "text/latex": [
       "A matrix: 9 × 9 of type dbl\n",
       "\\begin{tabular}{r|lllllllll}\n",
       "  & (Intercept) & lnox & lproptax & crime & rooms & dist & radial & stratio & lowstat\\\\\n",
       "\\hline\n",
       "\t(Intercept) &  1.530869e-01 & -1.709982e-02 & -1.078320e-02 & -8.238498e-05 & -6.900542e-03 & -1.530573e-03 &  7.055145e-04 & -7.831443e-04 & -1.962056e-04\\\\\n",
       "\tlnox & -1.709982e-02 &  8.526408e-03 & -4.168383e-04 &  2.020985e-05 &  4.034814e-04 &  4.814653e-04 & -6.726319e-05 &  1.245946e-04 & -8.910837e-05\\\\\n",
       "\tlproptax & -1.078320e-02 & -4.168383e-04 &  1.985017e-03 &  3.713831e-06 &  9.640707e-05 & -2.093779e-05 & -6.478039e-05 &  6.953258e-06 & -2.590446e-05\\\\\n",
       "\tcrime & -8.238498e-05 &  2.020985e-05 &  3.713831e-06 &  3.692526e-06 &  3.200531e-06 &  1.980757e-06 & -1.997014e-06 &  7.453163e-07 & -7.067536e-07\\\\\n",
       "\trooms & -6.900542e-03 &  4.034814e-04 &  9.640707e-05 &  3.200531e-06 &  6.603089e-04 &  7.804628e-05 & -2.521911e-05 &  3.720269e-05 &  5.703090e-05\\\\\n",
       "\tdist & -1.530573e-03 &  4.814653e-04 & -2.093779e-05 &  1.980757e-06 &  7.804628e-05 &  5.287478e-05 & -5.547542e-06 &  6.199873e-06 &  4.896066e-06\\\\\n",
       "\tradial &  7.055145e-04 & -6.726319e-05 & -6.478039e-05 & -1.997014e-06 & -2.521911e-05 & -5.547542e-06 &  6.470683e-06 & -3.340557e-06 & -1.229328e-06\\\\\n",
       "\tstratio & -7.831443e-04 &  1.245946e-04 &  6.953258e-06 &  7.453163e-07 &  3.720269e-05 &  6.199873e-06 & -3.340557e-06 &  1.701580e-05 & -1.098965e-06\\\\\n",
       "\tlowstat & -1.962056e-04 & -8.910837e-05 & -2.590446e-05 & -7.067536e-07 &  5.703090e-05 &  4.896066e-06 & -1.229328e-06 & -1.098965e-06 &  1.262944e-05\\\\\n",
       "\\end{tabular}\n"
      ],
      "text/markdown": [
       "\n",
       "A matrix: 9 × 9 of type dbl\n",
       "\n",
       "| <!--/--> | (Intercept) | lnox | lproptax | crime | rooms | dist | radial | stratio | lowstat |\n",
       "|---|---|---|---|---|---|---|---|---|---|\n",
       "| (Intercept) |  1.530869e-01 | -1.709982e-02 | -1.078320e-02 | -8.238498e-05 | -6.900542e-03 | -1.530573e-03 |  7.055145e-04 | -7.831443e-04 | -1.962056e-04 |\n",
       "| lnox | -1.709982e-02 |  8.526408e-03 | -4.168383e-04 |  2.020985e-05 |  4.034814e-04 |  4.814653e-04 | -6.726319e-05 |  1.245946e-04 | -8.910837e-05 |\n",
       "| lproptax | -1.078320e-02 | -4.168383e-04 |  1.985017e-03 |  3.713831e-06 |  9.640707e-05 | -2.093779e-05 | -6.478039e-05 |  6.953258e-06 | -2.590446e-05 |\n",
       "| crime | -8.238498e-05 |  2.020985e-05 |  3.713831e-06 |  3.692526e-06 |  3.200531e-06 |  1.980757e-06 | -1.997014e-06 |  7.453163e-07 | -7.067536e-07 |\n",
       "| rooms | -6.900542e-03 |  4.034814e-04 |  9.640707e-05 |  3.200531e-06 |  6.603089e-04 |  7.804628e-05 | -2.521911e-05 |  3.720269e-05 |  5.703090e-05 |\n",
       "| dist | -1.530573e-03 |  4.814653e-04 | -2.093779e-05 |  1.980757e-06 |  7.804628e-05 |  5.287478e-05 | -5.547542e-06 |  6.199873e-06 |  4.896066e-06 |\n",
       "| radial |  7.055145e-04 | -6.726319e-05 | -6.478039e-05 | -1.997014e-06 | -2.521911e-05 | -5.547542e-06 |  6.470683e-06 | -3.340557e-06 | -1.229328e-06 |\n",
       "| stratio | -7.831443e-04 |  1.245946e-04 |  6.953258e-06 |  7.453163e-07 |  3.720269e-05 |  6.199873e-06 | -3.340557e-06 |  1.701580e-05 | -1.098965e-06 |\n",
       "| lowstat | -1.962056e-04 | -8.910837e-05 | -2.590446e-05 | -7.067536e-07 |  5.703090e-05 |  4.896066e-06 | -1.229328e-06 | -1.098965e-06 |  1.262944e-05 |\n",
       "\n"
      ],
      "text/plain": [
       "            (Intercept)   lnox          lproptax      crime        \n",
       "(Intercept)  1.530869e-01 -1.709982e-02 -1.078320e-02 -8.238498e-05\n",
       "lnox        -1.709982e-02  8.526408e-03 -4.168383e-04  2.020985e-05\n",
       "lproptax    -1.078320e-02 -4.168383e-04  1.985017e-03  3.713831e-06\n",
       "crime       -8.238498e-05  2.020985e-05  3.713831e-06  3.692526e-06\n",
       "rooms       -6.900542e-03  4.034814e-04  9.640707e-05  3.200531e-06\n",
       "dist        -1.530573e-03  4.814653e-04 -2.093779e-05  1.980757e-06\n",
       "radial       7.055145e-04 -6.726319e-05 -6.478039e-05 -1.997014e-06\n",
       "stratio     -7.831443e-04  1.245946e-04  6.953258e-06  7.453163e-07\n",
       "lowstat     -1.962056e-04 -8.910837e-05 -2.590446e-05 -7.067536e-07\n",
       "            rooms         dist          radial        stratio      \n",
       "(Intercept) -6.900542e-03 -1.530573e-03  7.055145e-04 -7.831443e-04\n",
       "lnox         4.034814e-04  4.814653e-04 -6.726319e-05  1.245946e-04\n",
       "lproptax     9.640707e-05 -2.093779e-05 -6.478039e-05  6.953258e-06\n",
       "crime        3.200531e-06  1.980757e-06 -1.997014e-06  7.453163e-07\n",
       "rooms        6.603089e-04  7.804628e-05 -2.521911e-05  3.720269e-05\n",
       "dist         7.804628e-05  5.287478e-05 -5.547542e-06  6.199873e-06\n",
       "radial      -2.521911e-05 -5.547542e-06  6.470683e-06 -3.340557e-06\n",
       "stratio      3.720269e-05  6.199873e-06 -3.340557e-06  1.701580e-05\n",
       "lowstat      5.703090e-05  4.896066e-06 -1.229328e-06 -1.098965e-06\n",
       "            lowstat      \n",
       "(Intercept) -1.962056e-04\n",
       "lnox        -8.910837e-05\n",
       "lproptax    -2.590446e-05\n",
       "crime       -7.067536e-07\n",
       "rooms        5.703090e-05\n",
       "dist         4.896066e-06\n",
       "radial      -1.229328e-06\n",
       "stratio     -1.098965e-06\n",
       "lowstat      1.262944e-05"
      ]
     },
     "metadata": {},
     "output_type": "display_data"
    }
   ],
   "source": [
    "## installing the 'sandwich' package if not previously installed\n",
    "if (!require(sandwich)) install.packages('sandwich')\n",
    "\n",
    "## loading the packages\n",
    "library(sandwich)\n",
    "\n",
    "## OLS: calculating estimated asymptotic vcov matrices\n",
    "#vcovHC(ols,type=\"HC0\")\n",
    "vcovHC(ols,type=\"HC1\")\n",
    "#vcovHC(ols,type=\"HC2\")\n",
    "#vcovHC(ols,type=\"HC3\")"
   ]
  },
  {
   "cell_type": "markdown",
   "metadata": {
    "slideshow": {
     "slide_type": "subslide"
    }
   },
   "source": [
    "<ins>(Asymptotic) Standard Errors</ins>:\n",
    "\n",
    "These corresponds to the estimator of the standard deviation of the distribution of the OLS estimator $\\widehat{\\boldsymbol{\\beta}}$, i.e., \n",
    "\n",
    "$$\n",
    "s\\left(\\widehat{\\beta}_{j}\\right)=\\sqrt{\\widehat{\\mathbf{V}}^{\\mathrm{HC?}}_{\\widehat{\\beta}_{j}}}=\\sqrt{\\left[\\widehat{\\mathbf{V}}^{\\mathrm{HC?}}_{\\widehat{\\boldsymbol{\\beta}}}\\right]_{j j}},\n",
    "$$\n",
    "\n",
    "for $?=0,1,2,3$.\n",
    "\n"
   ]
  },
  {
   "cell_type": "markdown",
   "metadata": {
    "slideshow": {
     "slide_type": "fragment"
    }
   },
   "source": [
    "💻 Computationally they simply correspond to the square root of the main diagonal elements of the $\\widehat{\\mathbf{V}}^{\\mathrm{HC0}}_{\\widehat{\\boldsymbol{\\beta}}}$, $\\widehat{\\mathbf{V}}^{\\mathrm{HC1}}_{\\widehat{\\boldsymbol{\\beta}}}$, $\\widehat{\\mathbf{V}}^{\\mathrm{HC2}}_{\\widehat{\\boldsymbol{\\beta}}}$, or $\\widehat{\\mathbf{V}}^{\\mathrm{HC3}}_{\\widehat{\\boldsymbol{\\beta}}}$."
   ]
  },
  {
   "cell_type": "code",
   "execution_count": 21,
   "metadata": {
    "slideshow": {
     "slide_type": "fragment"
    }
   },
   "outputs": [
    {
     "data": {
      "text/html": [
       "<table>\n",
       "<caption>A data.frame: 9 × 4</caption>\n",
       "<thead>\n",
       "\t<tr><th></th><th scope=col>se.HC0</th><th scope=col>se.HC1</th><th scope=col>se.HC2</th><th scope=col>se.HC3</th></tr>\n",
       "\t<tr><th></th><th scope=col>&lt;dbl&gt;</th><th scope=col>&lt;dbl&gt;</th><th scope=col>&lt;dbl&gt;</th><th scope=col>&lt;dbl&gt;</th></tr>\n",
       "</thead>\n",
       "<tbody>\n",
       "\t<tr><th scope=row>(Intercept)</th><td>0.387767966</td><td>0.391263192</td><td>0.396024955</td><td>0.404742305</td></tr>\n",
       "\t<tr><th scope=row>lnox</th><td>0.091513674</td><td>0.092338551</td><td>0.092992882</td><td>0.094533769</td></tr>\n",
       "\t<tr><th scope=row>lproptax</th><td>0.044155528</td><td>0.044553533</td><td>0.045100581</td><td>0.046080435</td></tr>\n",
       "\t<tr><th scope=row>crime</th><td>0.001904429</td><td>0.001921595</td><td>0.002115827</td><td>0.002368824</td></tr>\n",
       "\t<tr><th scope=row>rooms</th><td>0.025466926</td><td>0.025696477</td><td>0.026114725</td><td>0.026798847</td></tr>\n",
       "\t<tr><th scope=row>dist</th><td>0.007206547</td><td>0.007271505</td><td>0.007321615</td><td>0.007441071</td></tr>\n",
       "\t<tr><th scope=row>radial</th><td>0.002521030</td><td>0.002543754</td><td>0.002599928</td><td>0.002691947</td></tr>\n",
       "\t<tr><th scope=row>stratio</th><td>0.004088172</td><td>0.004125021</td><td>0.004154847</td><td>0.004226089</td></tr>\n",
       "\t<tr><th scope=row>lowstat</th><td>0.003522046</td><td>0.003553793</td><td>0.003608547</td><td>0.003699404</td></tr>\n",
       "</tbody>\n",
       "</table>\n"
      ],
      "text/latex": [
       "A data.frame: 9 × 4\n",
       "\\begin{tabular}{r|llll}\n",
       "  & se.HC0 & se.HC1 & se.HC2 & se.HC3\\\\\n",
       "  & <dbl> & <dbl> & <dbl> & <dbl>\\\\\n",
       "\\hline\n",
       "\t(Intercept) & 0.387767966 & 0.391263192 & 0.396024955 & 0.404742305\\\\\n",
       "\tlnox & 0.091513674 & 0.092338551 & 0.092992882 & 0.094533769\\\\\n",
       "\tlproptax & 0.044155528 & 0.044553533 & 0.045100581 & 0.046080435\\\\\n",
       "\tcrime & 0.001904429 & 0.001921595 & 0.002115827 & 0.002368824\\\\\n",
       "\trooms & 0.025466926 & 0.025696477 & 0.026114725 & 0.026798847\\\\\n",
       "\tdist & 0.007206547 & 0.007271505 & 0.007321615 & 0.007441071\\\\\n",
       "\tradial & 0.002521030 & 0.002543754 & 0.002599928 & 0.002691947\\\\\n",
       "\tstratio & 0.004088172 & 0.004125021 & 0.004154847 & 0.004226089\\\\\n",
       "\tlowstat & 0.003522046 & 0.003553793 & 0.003608547 & 0.003699404\\\\\n",
       "\\end{tabular}\n"
      ],
      "text/markdown": [
       "\n",
       "A data.frame: 9 × 4\n",
       "\n",
       "| <!--/--> | se.HC0 &lt;dbl&gt; | se.HC1 &lt;dbl&gt; | se.HC2 &lt;dbl&gt; | se.HC3 &lt;dbl&gt; |\n",
       "|---|---|---|---|---|\n",
       "| (Intercept) | 0.387767966 | 0.391263192 | 0.396024955 | 0.404742305 |\n",
       "| lnox | 0.091513674 | 0.092338551 | 0.092992882 | 0.094533769 |\n",
       "| lproptax | 0.044155528 | 0.044553533 | 0.045100581 | 0.046080435 |\n",
       "| crime | 0.001904429 | 0.001921595 | 0.002115827 | 0.002368824 |\n",
       "| rooms | 0.025466926 | 0.025696477 | 0.026114725 | 0.026798847 |\n",
       "| dist | 0.007206547 | 0.007271505 | 0.007321615 | 0.007441071 |\n",
       "| radial | 0.002521030 | 0.002543754 | 0.002599928 | 0.002691947 |\n",
       "| stratio | 0.004088172 | 0.004125021 | 0.004154847 | 0.004226089 |\n",
       "| lowstat | 0.003522046 | 0.003553793 | 0.003608547 | 0.003699404 |\n",
       "\n"
      ],
      "text/plain": [
       "            se.HC0      se.HC1      se.HC2      se.HC3     \n",
       "(Intercept) 0.387767966 0.391263192 0.396024955 0.404742305\n",
       "lnox        0.091513674 0.092338551 0.092992882 0.094533769\n",
       "lproptax    0.044155528 0.044553533 0.045100581 0.046080435\n",
       "crime       0.001904429 0.001921595 0.002115827 0.002368824\n",
       "rooms       0.025466926 0.025696477 0.026114725 0.026798847\n",
       "dist        0.007206547 0.007271505 0.007321615 0.007441071\n",
       "radial      0.002521030 0.002543754 0.002599928 0.002691947\n",
       "stratio     0.004088172 0.004125021 0.004154847 0.004226089\n",
       "lowstat     0.003522046 0.003553793 0.003608547 0.003699404"
      ]
     },
     "metadata": {},
     "output_type": "display_data"
    }
   ],
   "source": [
    "data.frame(se.HC0=sqrt(diag(vcovHC(ols,type=\"HC0\"))),se.HC1=sqrt(diag(vcovHC(ols,type=\"HC1\"))),\n",
    "           se.HC2=sqrt(diag(vcovHC(ols,type=\"HC2\"))),se.HC3=sqrt(diag(vcovHC(ols,type=\"HC3\"))))"
   ]
  },
  {
   "cell_type": "markdown",
   "metadata": {
    "slideshow": {
     "slide_type": "subslide"
    }
   },
   "source": [
    "<ins>$t$-statistic</ins>:\n",
    "\n",
    "$$t=\\frac{\\widehat{\\beta}_j-\\beta_j}{s(\\widehat{\\beta}_j)}\\stackrel{d}{\\longrightarrow}N(0,1).$$\n",
    "\n",
    "<p style='text-align: right;'> <a href=\"https://en.wikipedia.org/wiki/T-statistic\" style=\"color: #cc0000\">t-statistic</a></p>\n",
    "<p style='text-align: right;'> <a href=\"https://en.wikipedia.org/wiki/Normal_distribution#Definition\" style=\"color: #cc0000\">Standard Normal</a></p>"
   ]
  },
  {
   "cell_type": "markdown",
   "metadata": {
    "slideshow": {
     "slide_type": "fragment"
    }
   },
   "source": [
    "💻 Most statistical packages will use the Student's $t$ distribution with $n-k-1$ degrees-of-freedom."
   ]
  },
  {
   "cell_type": "code",
   "execution_count": 22,
   "metadata": {
    "slideshow": {
     "slide_type": "fragment"
    }
   },
   "outputs": [
    {
     "name": "stderr",
     "output_type": "stream",
     "text": [
      "Loading required package: lmtest\n",
      "Loading required package: zoo\n",
      "\n",
      "Attaching package: 'zoo'\n",
      "\n",
      "The following objects are masked from 'package:base':\n",
      "\n",
      "    as.Date, as.Date.numeric\n",
      "\n"
     ]
    },
    {
     "data": {
      "text/plain": [
       "\n",
       "t test of coefficients:\n",
       "\n",
       "              Estimate Std. Error t value  Pr(>|t|)    \n",
       "(Intercept) 12.6516153  0.3912632 32.3353 < 2.2e-16 ***\n",
       "lnox        -0.4503330  0.0923386 -4.8770 1.452e-06 ***\n",
       "lproptax    -0.2273752  0.0445535 -5.1034 4.757e-07 ***\n",
       "crime       -0.0112651  0.0019216 -5.8624 8.322e-09 ***\n",
       "rooms        0.0989982  0.0256965  3.8526 0.0001322 ***\n",
       "dist        -0.0488052  0.0072715 -6.7118 5.255e-11 ***\n",
       "radial       0.0114693  0.0025438  4.5088 8.140e-06 ***\n",
       "stratio     -0.0404185  0.0041250 -9.7984 < 2.2e-16 ***\n",
       "lowstat     -0.0282684  0.0035538 -7.9544 1.224e-14 ***\n",
       "---\n",
       "Signif. codes:  0 '***' 0.001 '**' 0.01 '*' 0.05 '.' 0.1 ' ' 1\n"
      ]
     },
     "metadata": {},
     "output_type": "display_data"
    }
   ],
   "source": [
    "## installing the 'lmtest' package if not previously installed\n",
    "if (!require(lmtest)) install.packages('lmtest')\n",
    "\n",
    "## loading the packages\n",
    "library(lmtest)\n",
    "\n",
    "## OLS: calculating standard t-statistics for 'significance'\n",
    "coeftest(ols, vcov = vcovHC, type = \"HC1\")"
   ]
  },
  {
   "cell_type": "markdown",
   "metadata": {
    "slideshow": {
     "slide_type": "subslide"
    }
   },
   "source": [
    "<ins>(Asymptotic) Confidence Interval</ins>:\n",
    "\n",
    "The OLS estimator $\\widehat{\\beta}_j$ is called a _point estimator_ of the unknown slope parameter $\\beta_j$. A broader concept is a _set estimator_ $\\widehat{C}=[\\widehat{L},\\widehat{U}]$ which is an _interval estimator_ of $\\beta_j$. An interval estimator $\\widehat{C}$ is called a **confidence interval** when the goal is to set the coverage probability\n",
    "to equal a pre-specified target such as $90 \\%$ or $95 \\%$. The conventional confidence interval for $\\beta_j$ takes the form\n",
    "\n",
    "$$\n",
    "\\widehat{C}=[\\widehat{\\beta}_j-c\\cdot s(\\widehat{\\beta}_j),\\widehat{\\beta}_j+c\\cdot s(\\widehat{\\beta}_j)],\n",
    "$$\n",
    "\n",
    "where $c$ equals the $1-\\alpha$ [quantile](https://en.wikipedia.org/wiki/Quantile) of the distribution of $|Z|$, i.e., $c$ is equivalent to the $1-\\alpha/2$ quantile of the standard normal distribution.\n",
    "\n",
    "<p style='text-align: right;'> <a href=\"https://en.wikipedia.org/wiki/Confidence_interval\" style=\"color: #cc0000\">Confidence Interval</a></p>"
   ]
  },
  {
   "cell_type": "code",
   "execution_count": 23,
   "metadata": {
    "slideshow": {
     "slide_type": "fragment"
    }
   },
   "outputs": [
    {
     "data": {
      "text/html": [
       "<table>\n",
       "<caption>A matrix: 9 × 2 of type dbl</caption>\n",
       "<thead>\n",
       "\t<tr><th></th><th scope=col>5 %</th><th scope=col>95 %</th></tr>\n",
       "</thead>\n",
       "<tbody>\n",
       "\t<tr><th scope=row>(Intercept)</th><td>12.006842759</td><td>13.296387799</td></tr>\n",
       "\t<tr><th scope=row>lnox</th><td>-0.602500003</td><td>-0.298165931</td></tr>\n",
       "\t<tr><th scope=row>lproptax</th><td>-0.300796142</td><td>-0.153954352</td></tr>\n",
       "\t<tr><th scope=row>crime</th><td>-0.014431791</td><td>-0.008098502</td></tr>\n",
       "\t<tr><th scope=row>rooms</th><td> 0.056652372</td><td> 0.141344122</td></tr>\n",
       "\t<tr><th scope=row>dist</th><td>-0.060788146</td><td>-0.036822352</td></tr>\n",
       "\t<tr><th scope=row>radial</th><td> 0.007277419</td><td> 0.015661251</td></tr>\n",
       "\t<tr><th scope=row>stratio</th><td>-0.047216179</td><td>-0.033620726</td></tr>\n",
       "\t<tr><th scope=row>lowstat</th><td>-0.034124832</td><td>-0.022412062</td></tr>\n",
       "</tbody>\n",
       "</table>\n"
      ],
      "text/latex": [
       "A matrix: 9 × 2 of type dbl\n",
       "\\begin{tabular}{r|ll}\n",
       "  & 5 \\% & 95 \\%\\\\\n",
       "\\hline\n",
       "\t(Intercept) & 12.006842759 & 13.296387799\\\\\n",
       "\tlnox & -0.602500003 & -0.298165931\\\\\n",
       "\tlproptax & -0.300796142 & -0.153954352\\\\\n",
       "\tcrime & -0.014431791 & -0.008098502\\\\\n",
       "\trooms &  0.056652372 &  0.141344122\\\\\n",
       "\tdist & -0.060788146 & -0.036822352\\\\\n",
       "\tradial &  0.007277419 &  0.015661251\\\\\n",
       "\tstratio & -0.047216179 & -0.033620726\\\\\n",
       "\tlowstat & -0.034124832 & -0.022412062\\\\\n",
       "\\end{tabular}\n"
      ],
      "text/markdown": [
       "\n",
       "A matrix: 9 × 2 of type dbl\n",
       "\n",
       "| <!--/--> | 5 % | 95 % |\n",
       "|---|---|---|\n",
       "| (Intercept) | 12.006842759 | 13.296387799 |\n",
       "| lnox | -0.602500003 | -0.298165931 |\n",
       "| lproptax | -0.300796142 | -0.153954352 |\n",
       "| crime | -0.014431791 | -0.008098502 |\n",
       "| rooms |  0.056652372 |  0.141344122 |\n",
       "| dist | -0.060788146 | -0.036822352 |\n",
       "| radial |  0.007277419 |  0.015661251 |\n",
       "| stratio | -0.047216179 | -0.033620726 |\n",
       "| lowstat | -0.034124832 | -0.022412062 |\n",
       "\n"
      ],
      "text/plain": [
       "            5 %          95 %        \n",
       "(Intercept) 12.006842759 13.296387799\n",
       "lnox        -0.602500003 -0.298165931\n",
       "lproptax    -0.300796142 -0.153954352\n",
       "crime       -0.014431791 -0.008098502\n",
       "rooms        0.056652372  0.141344122\n",
       "dist        -0.060788146 -0.036822352\n",
       "radial       0.007277419  0.015661251\n",
       "stratio     -0.047216179 -0.033620726\n",
       "lowstat     -0.034124832 -0.022412062"
      ]
     },
     "metadata": {},
     "output_type": "display_data"
    }
   ],
   "source": [
    "## OLS: calculating asymptotic 90% confidence interval\n",
    "coefci(ols, level = 0.90, vcov = vcovHC, type = \"HC1\")"
   ]
  },
  {
   "cell_type": "markdown",
   "metadata": {
    "slideshow": {
     "slide_type": "slide"
    }
   },
   "source": [
    "### Regression Intervals"
   ]
  },
  {
   "cell_type": "markdown",
   "metadata": {
    "slideshow": {
     "slide_type": "subslide"
    }
   },
   "source": [
    "In the linear regression model the conditional mean of $y_{i}$ given $\\mathbf{x}_{i}=\\mathbf{x}$ is\n",
    "$$\n",
    "m(\\mathbf{x})=E\\left(y_{i} | \\mathbf{x}_{i}=\\mathbf{x}\\right)=\\mathbf{x}^{\\prime} \\beta\n",
    "$$\n",
    "Thus an asymptotic 95% confidence interval for $m(\\mathbf{x})$ is\n",
    "$$\n",
    "\\left[\\mathbf{x}^{\\prime} \\widehat{\\boldsymbol{\\beta}} \\pm 1.96 \\sqrt{\\mathbf{x}^{\\prime} \\widehat{\\mathbf{V}}_{\\widehat{\\boldsymbol{\\beta}}}^{\\mathrm{HC?}} \\mathbf{x}}\\right]\n",
    "$$\n",
    "for $?=0,1,2,3$."
   ]
  },
  {
   "cell_type": "code",
   "execution_count": 24,
   "metadata": {
    "slideshow": {
     "slide_type": "subslide"
    }
   },
   "outputs": [
    {
     "name": "stderr",
     "output_type": "stream",
     "text": [
      "Loading required package: mgcv\n",
      "Loading required package: nlme\n",
      "This is mgcv 1.8-28. For overview type 'help(\"mgcv-package\")'.\n"
     ]
    },
    {
     "data": {
      "text/html": [
       "<table>\n",
       "<caption>A data.frame: 1 × 2</caption>\n",
       "<thead>\n",
       "\t<tr><th scope=col>L.hat</th><th scope=col>U.hat</th></tr>\n",
       "\t<tr><th scope=col>&lt;dbl&gt;</th><th scope=col>&lt;dbl&gt;</th></tr>\n",
       "</thead>\n",
       "<tbody>\n",
       "\t<tr><td>9.923714</td><td>9.9584</td></tr>\n",
       "</tbody>\n",
       "</table>\n"
      ],
      "text/latex": [
       "A data.frame: 1 × 2\n",
       "\\begin{tabular}{r|ll}\n",
       " L.hat & U.hat\\\\\n",
       " <dbl> & <dbl>\\\\\n",
       "\\hline\n",
       "\t 9.923714 & 9.9584\\\\\n",
       "\\end{tabular}\n"
      ],
      "text/markdown": [
       "\n",
       "A data.frame: 1 × 2\n",
       "\n",
       "| L.hat &lt;dbl&gt; | U.hat &lt;dbl&gt; |\n",
       "|---|---|\n",
       "| 9.923714 | 9.9584 |\n",
       "\n"
      ],
      "text/plain": [
       "  L.hat    U.hat \n",
       "1 9.923714 9.9584"
      ]
     },
     "metadata": {},
     "output_type": "display_data"
    }
   ],
   "source": [
    "## installing the 'mgcv' package if not previously installed\n",
    "if (!require(mgcv)) install.packages('mgcv')\n",
    "\n",
    "## loading the packages\n",
    "library(mgcv)\n",
    "\n",
    "## OLS: performing OLS using the 'gam' function in 'mgcv'\n",
    "ols.gam <- gam(f,data=hprice2)\n",
    "\n",
    "## OLS: replacing the default homoskedastic vcov\n",
    "ols.gam$Vp <- vcovHC(ols,type=\"HC1\")\n",
    "\n",
    "## OLS: creating the x_i=mean(x)\n",
    "attach(hprice2)\n",
    "new.dat=data.frame(lnox=mean(lnox),lproptax=mean(lproptax),\n",
    "                   crime=mean(crime),rooms=mean(rooms),\n",
    "                   dist=mean(dist),radial=mean(radial),\n",
    "                   stratio=mean(stratio),lowstat=mean(lowstat))\n",
    "detach(hprice2)\n",
    "\n",
    "## OLS: using the predict command to get the robust s.e.\n",
    "reg.int <- predict(ols.gam,newdata=new.dat,se.fit=TRUE)\n",
    "\n",
    "## OLS: manually estimating the (robust) regression interval\n",
    "data.frame(L.hat=reg.int$fit-1.96*reg.int$se.fit,U.hat=reg.int$fit+1.96*reg.int$se.fit)"
   ]
  },
  {
   "cell_type": "markdown",
   "metadata": {
    "slideshow": {
     "slide_type": "slide"
    }
   },
   "source": [
    "### Forecast Intervals"
   ]
  },
  {
   "cell_type": "markdown",
   "metadata": {
    "slideshow": {
     "slide_type": "subslide"
    }
   },
   "source": [
    "Suppose we are given a value of the regressor vector $\\mathbf{x}_{n+1}$ for an individual outside the sample, and\n",
    "we want to forecast (guess) $y_{n+1}$ for this individual. This is equivalent to forecasting $y_{n+1}$ given $\\mathbf{x}_{n+1}=\\mathbf{x}$, which will generally be a function of $\\mathbf{x}$. A reasonable forecasting rule is the conditional mean $m(\\mathbf{x})$ as it is the mean-square-minimizing forecast. A point forecast is the estimated conditional mean $\\widehat{m}(\\mathbf{x})=\\mathbf{x}^{\\prime} \\widehat{\\beta}$. We would also like a measure of uncertainty for the forecast.\n",
    "\n",
    "The forecast error is $\\widehat{e}_{n+1}=y_{n+1}-\\widehat{m}(\\mathbf{x})=e_{n+1}-\\mathbf{x}^{\\prime}(\\widehat{\\boldsymbol{\\beta}}-\\boldsymbol{\\beta})$. As the out-of-sample error $e_{n+1}$ is independent of the in-sample estimate $\\widehat{\\boldsymbol{\\beta}}$, this has conditional variance\n",
    "\n",
    "$$\n",
    "\\begin{aligned}\n",
    "E\\left(\\widehat{e}_{n+1}^{2} | \\mathbf{x}_{n+1}=\\mathbf{x}\\right) &=E\\left(e_{n+1}^{2}-2 \\mathbf{x}^{\\prime}(\\widehat{\\boldsymbol{\\beta}}-\\boldsymbol{\\beta}) e_{n+1}+\\mathbf{x}^{\\prime}(\\hat{\\boldsymbol{\\beta}}-\\boldsymbol{\\beta})(\\hat{\\boldsymbol{\\beta}}-\\boldsymbol{\\beta})^{\\prime} \\mathbf{x} | \\mathbf{x}_{n+1}=\\mathbf{x}\\right) \\\\ &=E\\left(e_{n+1}^{2} | \\mathbf{x}_{n+1}=\\mathbf{x}\\right)+\\mathbf{x}^{\\prime} E[(\\widehat{\\boldsymbol{\\beta}}-\\boldsymbol{\\beta})(\\widehat{\\boldsymbol{\\beta}}-\\boldsymbol{\\beta})^{\\prime}|\\mathbf{x}_{n+1}=\\mathbf{x}] \\mathbf{x} \\\\ &=\\sigma^{2}(\\mathbf{x})+\\mathbf{x}^{\\prime} \\mathbf{V}_{\\widehat{\\boldsymbol{\\beta}}} \\mathbf{x} \\end{aligned}\n",
    "$$"
   ]
  },
  {
   "cell_type": "markdown",
   "metadata": {
    "slideshow": {
     "slide_type": "subslide"
    }
   },
   "source": [
    "Under homoskedasticity $E\\left(e_{n+1}^{2} | \\mathbf{x}_{n+1}\\right)=\\sigma^{2}$. In this case $\\widehat{\\sigma}^{2}+\\mathbf{x}^{\\prime} \\widehat{\\mathbf{V}}_{\\widehat{\\beta}}^{\\mathrm{HC?}} \\mathbf{x}$ is a consistent estimator of this conditional variance, so a standard error for the forecast is $\\widehat{s}(\\mathbf{x})=\\sqrt{\\widehat{\\sigma}^{2}+\\mathbf{x}^{\\prime} \\widehat{\\mathbf{V}}_{\\widehat{\\boldsymbol{\\beta}}}^{\\mathrm{HC?}} \\mathbf{x}}$, and the conventional 95% forecast insterval for $y_{n+1}$ uses a normal approximation and sets\n",
    "\n",
    "$$\\left[\\mathbf{x}^{\\prime} \\widehat{\\boldsymbol{\\beta}} \\pm 1.96 \\widehat{s}(\\mathbf{x})\\right].$$\n",
    "\n",
    "🛑 This interval is only valid if $e_{n+1}$ comes from a _homoskedastic_ normal distribution, i.e., $e_{n+1}\\sim N(0,\\sigma^2)$!"
   ]
  },
  {
   "cell_type": "markdown",
   "metadata": {
    "slideshow": {
     "slide_type": "subslide"
    }
   },
   "source": [
    "💻 We now _manually_ calculate the forecast interval for the same mean values of $\\mathbf{x}$ as before."
   ]
  },
  {
   "cell_type": "code",
   "execution_count": 25,
   "metadata": {
    "slideshow": {
     "slide_type": "fragment"
    }
   },
   "outputs": [
    {
     "data": {
      "text/html": [
       "<table>\n",
       "<caption>A data.frame: 1 × 2</caption>\n",
       "<thead>\n",
       "\t<tr><th scope=col>L.hat</th><th scope=col>U.hat</th></tr>\n",
       "\t<tr><th scope=col>&lt;dbl&gt;</th><th scope=col>&lt;dbl&gt;</th></tr>\n",
       "</thead>\n",
       "<tbody>\n",
       "\t<tr><td>9.550559</td><td>10.33156</td></tr>\n",
       "</tbody>\n",
       "</table>\n"
      ],
      "text/latex": [
       "A data.frame: 1 × 2\n",
       "\\begin{tabular}{r|ll}\n",
       " L.hat & U.hat\\\\\n",
       " <dbl> & <dbl>\\\\\n",
       "\\hline\n",
       "\t 9.550559 & 10.33156\\\\\n",
       "\\end{tabular}\n"
      ],
      "text/markdown": [
       "\n",
       "A data.frame: 1 × 2\n",
       "\n",
       "| L.hat &lt;dbl&gt; | U.hat &lt;dbl&gt; |\n",
       "|---|---|\n",
       "| 9.550559 | 10.33156 |\n",
       "\n"
      ],
      "text/plain": [
       "  L.hat    U.hat   \n",
       "1 9.550559 10.33156"
      ]
     },
     "metadata": {},
     "output_type": "display_data"
    }
   ],
   "source": [
    "## OLS: manually estimating the forecast interval\n",
    "s.hat <- sqrt(summary(ols)$sigma^2+reg.int$se.fit^2)\n",
    "data.frame(L.hat=reg.int$fit-1.96*s.hat,\n",
    "           U.hat=reg.int$fit+1.96*s.hat)"
   ]
  }
 ],
 "metadata": {
  "author": "lde",
  "hide_input": false,
  "kernelspec": {
   "display_name": "R",
   "language": "R",
   "name": "ir"
  },
  "language_info": {
   "codemirror_mode": "r",
   "file_extension": ".r",
   "mimetype": "text/x-r-source",
   "name": "R",
   "pygments_lexer": "r",
   "version": "4.0.2"
  },
  "latex_envs": {
   "LaTeX_envs_menu_present": true,
   "autoclose": false,
   "autocomplete": true,
   "bibliofile": "biblio.bib",
   "cite_by": "apalike",
   "current_citInitial": 1,
   "eqLabelWithNumbers": true,
   "eqNumInitial": 1,
   "hotkeys": {
    "equation": "Ctrl-E",
    "itemize": "Ctrl-I"
   },
   "labels_anchors": false,
   "latex_user_defs": false,
   "report_style_numbering": false,
   "user_envs_cfg": false
  }
 },
 "nbformat": 4,
 "nbformat_minor": 4
}
